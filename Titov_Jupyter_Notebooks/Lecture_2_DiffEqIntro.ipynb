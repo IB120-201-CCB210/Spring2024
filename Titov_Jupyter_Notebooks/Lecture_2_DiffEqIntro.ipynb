{
 "cells": [
  {
   "cell_type": "markdown",
   "metadata": {},
   "source": [
    "# <center>CMPBIO210, IB120, IB201\n",
    "# <center>\"Introduction to Quantitative Methods in Biology\"\n",
    "# <center>Lecture 2. Differential Equations Intro  \n",
    "## <center>Denis Titov"
   ]
  },
  {
   "cell_type": "markdown",
   "metadata": {},
   "source": [
    "**The main goal of this jupyter notebook is to introduce you to the calculus approach of answering questions.  \n",
    "A secondary goal is to introduce you to numerical and analytical solutions of differential equations using Python with SciPy solve_ivp() and SymPy dsolve(), respectively**"
   ]
  },
  {
   "cell_type": "markdown",
   "metadata": {},
   "source": [
    "A major goal of science is to understand how things work so that we can predict how a system will evolve over time given initial conditions.  \n",
    "Differential equations is the mathematical tool that scientists use to achieve this goal.  \n",
    "  \n",
    "Some examples of systems that can be described using differentail equations:\n",
    "- calculate changes of concentration of metabolites over time given enzyme reaction rates and concentrations at time=0\n",
    "- calculate changes in mRNA and protein concentration over time given transcription, translation, degradation rates and concentrations at time=0\n",
    "- calculate changes in the size of populations over time given growth rates and population sizes at time=0  \n",
    "- calculate the number of infected people given virus transmission rates and number of people at t=0\n",
    "- calculate changes of position of objects over time given speed, acceleration and positions at time=0  "
   ]
  },
  {
   "cell_type": "code",
   "execution_count": null,
   "metadata": {},
   "outputs": [],
   "source": [
    "import matplotlib.pyplot as plt\n",
    "import numpy as np\n",
    "import sympy as sym\n",
    "from scipy.integrate import solve_ivp"
   ]
  },
  {
   "cell_type": "markdown",
   "metadata": {
    "tags": []
   },
   "source": [
    "## Let's re-discover calculus by attempting to answer the following question\n",
    "\n",
    "Let's say we know a rate of something changing over time. For example, \n",
    "  \n",
    "Enzyme Rate - change of Enzyme Product concentration $[P]$ over a period of time $\\frac{\\Delta [P]}{\\Delta t}=\\frac{[P]_{t_2}-[P]_{t_1}}{t_2-t_1}$  \n",
    "  \n",
    "Growth Rate - change of Population of Individuals $N$ over a period of time $\\frac{\\Delta N}{\\Delta t}=\\frac{N_{t_2}-N_{t_1}}{t_2-t_1}$  \n",
    "  \n",
    "Object Velocity - change of Car Position $x$ over a period of time $\\frac{\\Delta x}{\\Delta t}=\\frac{x_{t_2}-x_{t_1}}{t_2-t_1}$   \n",
    "  \n",
    "\n",
    "What will happen to $[P]$, $N$ or $x$ at any point in time in the future given starting values $[P]_0$, $N_0$ or $x_0$ and corresponding rates $\\frac{\\Delta [P]}{\\Delta t}$, $\\frac{\\Delta N}{\\Delta t}$ and $\\frac{\\Delta x}{\\Delta t}$?  "
   ]
  },
  {
   "cell_type": "markdown",
   "metadata": {},
   "source": [
    " "
   ]
  },
  {
   "cell_type": "markdown",
   "metadata": {
    "tags": []
   },
   "source": [
    "#### Let's start by figuring out what happens when $\\frac{\\Delta [P]}{\\Delta t}$, $\\frac{\\Delta N}{\\Delta t}$ and $\\frac{\\Delta x}{\\Delta t}$ are constant (i.e., $\\frac{\\Delta [P]}{\\Delta t}=Some Number$)  \n",
    "If $\\frac{\\Delta [P]}{\\Delta t}$ is constant then $[P](t)=[P]_0 + \\frac{\\Delta [P]}{\\Delta t} * t$"
   ]
  },
  {
   "cell_type": "code",
   "execution_count": null,
   "metadata": {
    "tags": []
   },
   "outputs": [],
   "source": [
    "EnzymeRate = 10\n",
    "InitialProduct = 0\n",
    "\n",
    "# Make arrays of timepoints and corresponding enzyme rates that we can then plot using parameters above\n",
    "number_of_timepoints = 10  # Try changing \"number_of_timepoints\"\n",
    "final_timepoint = 100\n",
    "time_array = np.linspace(0, final_timepoint, number_of_timepoints)\n",
    "enzyme_rate_array = EnzymeRate * np.ones(number_of_timepoints)\n",
    "\n",
    "# Let's plot the arrays that we made above\n",
    "fig, axs = plt.subplots(\n",
    "    nrows=1, ncols=2, figsize=(15, 6), dpi=100, constrained_layout=True\n",
    ")\n",
    "axs[0].plot(time_array, enzyme_rate_array)\n",
    "axs[1].scatter(time_array, enzyme_rate_array * time_array, marker=\"o\")\n",
    "\n",
    "# Let's add filled surface under the Enzyme Rate and corresponding [P] point\n",
    "timepoint = 40  # Try changing \"timepoint\"\n",
    "axs[0].fill_between([0, timepoint], [EnzymeRate, EnzymeRate], color=\"red\")\n",
    "axs[1].scatter([timepoint], [EnzymeRate * timepoint], c=\"red\")\n",
    "axs[1].plot(\n",
    "    [0.0, timepoint, timepoint],\n",
    "    [EnzymeRate * timepoint, EnzymeRate * timepoint, 0.0],\n",
    "    c=\"red\",\n",
    ")\n",
    "\n",
    "# Let's beautify the plot a bit by adding axis labels and increase font\n",
    "axs[0].set_ylabel(r\"Enzyme Rate = $\\frac{\\Delta [P]}{\\Delta t}$\", fontsize=20)\n",
    "axs[0].set_ylim(0, 1.1 * EnzymeRate)\n",
    "axs[1].set_ylabel(\"$[P](t)$\", fontsize=20)\n",
    "\n",
    "for ax in axs:\n",
    "    ax.tick_params(labelsize=15)\n",
    "    ax.grid(which=\"major\", axis=\"both\")\n",
    "    ax.set_xlabel(\"Time, $t$\", fontsize=20)"
   ]
  },
  {
   "cell_type": "markdown",
   "metadata": {},
   "source": [
    "#### Now let's do the same calculation as above but for non-constant $\\frac{\\Delta [P]}{\\Delta t}$, $\\frac{\\Delta N}{\\Delta t}$ and $\\frac{\\Delta x}{\\Delta t}$ (i.e., $\\frac{\\Delta [P]}{\\Delta t}=f([P], t)$)  \n",
    "Let's use $\\frac{\\Delta [P]}{\\Delta t}=-t$ as an example but principle is the same for any $\\frac{\\Delta [P]}{\\Delta t}=f([P], t)$  \n",
    "Let's plot $\\frac{\\Delta [P]}{\\Delta t}=-t$. The detailed text explaining an approach to make this calculation is after the code for plotting."
   ]
  },
  {
   "cell_type": "code",
   "execution_count": null,
   "metadata": {},
   "outputs": [],
   "source": [
    "InitialEnzymeRate = 1000\n",
    "InitialProduct = 0\n",
    "\n",
    "# Make arrays of timepoints and corresponding enzyme rates that we can then plot using parameters above\n",
    "number_of_timepoints = 10_000\n",
    "final_timepoint = 1000\n",
    "time_array = np.linspace(0, final_timepoint, number_of_timepoints)\n",
    "enzyme_rate_array = InitialEnzymeRate * np.ones(number_of_timepoints) - time_array\n",
    "\n",
    "fig, axs = plt.subplots(\n",
    "    nrows=1, ncols=2, figsize=(14, 5), dpi=100, constrained_layout=True\n",
    ")\n",
    "axs[0].plot(time_array, enzyme_rate_array)\n",
    "\n",
    "# Let's calculate [P] by dividing time_array into segments and assuming that withing\n",
    "# each segment the rate is constant and equal to mean rate in the segment\n",
    "divider = 10  # change this value to higher value to get a better approximation (cannot be higher than final_timepoint due to how I implemented the code but in theory could be any number)\n",
    "\n",
    "# Lets plot the segments on top of Rate plot to visualize it\n",
    "axs[0].vlines(\n",
    "    range(0, final_timepoint + 1, final_timepoint // divider),\n",
    "    0,\n",
    "    InitialEnzymeRate,\n",
    "    color=\"red\",\n",
    ")\n",
    "\n",
    "# Lets calculate [P] using the mean Rate in each segment\n",
    "Calc_P = [InitialProduct]\n",
    "Calc_time = [0]\n",
    "Sum_P = InitialProduct\n",
    "segment_size = number_of_timepoints // divider\n",
    "for t in range(1, divider + 1):\n",
    "    Calc_time = np.append(Calc_time, time_array[t * segment_size - 1])\n",
    "    Time_period = Calc_time[t] - Calc_time[t - 1]\n",
    "    Mean_rate = np.mean(\n",
    "        enzyme_rate_array[(t - 1) * segment_size : t * segment_size - 1]\n",
    "    )\n",
    "    Sum_P += Time_period * Mean_rate\n",
    "    Calc_P = np.append(Calc_P, Sum_P)\n",
    "\n",
    "# Plot the calculated [P] using segmentation idea\n",
    "axs[1].scatter(Calc_time, Calc_P, marker=\"o\")\n",
    "\n",
    "# Let's beautify the plot a bit by adding axis labels and increase font\n",
    "axs[0].set_ylabel(r\"Enzyme Rate = $\\frac{\\Delta [P]}{\\Delta t}$\", fontsize=20)\n",
    "axs[0].set_ylim(0, 1.1 * InitialEnzymeRate)\n",
    "axs[1].set_ylabel(\"$[P](t)$\", fontsize=20)\n",
    "\n",
    "for ax in axs:\n",
    "    ax.tick_params(labelsize=15)\n",
    "    ax.grid(which=\"major\", axis=\"both\")\n",
    "    ax.set_xlabel(\"Time, $t$\", fontsize=20)"
   ]
  },
  {
   "cell_type": "markdown",
   "metadata": {},
   "source": [
    "I propose as an approach to answering the question above we simply divide the time into several segments and assume $\\frac{\\Delta [P]}{\\Delta t}$ is constant in each segment so within a segment we can use the same simple arithmetic calculation as above $[P]_{t_2}=[P]_{t_1} + \\frac{\\Delta [P]}{\\Delta t} * (t_2-t_1)$  \n",
    "So then we can do a series of calculation like this for each segment:  \n",
    "$[P]_{t_1}=[P]_{0} + mean(\\frac{\\Delta [P]}{\\Delta t})_{segment_{0->t_1}} \\cdot (t_1-0)$  \n",
    "$[P]_{t_2}=[P]_{t_1} + mean(\\frac{\\Delta [P]}{\\Delta t})_{segment_{t_1->t_2}} \\cdot (t_2-t_1)$  \n",
    "$[P]_{t_3}=[P]_{t_2} + mean(\\frac{\\Delta [P]}{\\Delta t})_{segment_{t_2->t_3}} \\cdot (t_3-t_2)$  \n",
    "...  \n",
    "$[P]_{t_n}=[P]_{t_{n-1}} + mean(\\frac{\\Delta [P]}{\\Delta t})_{segment_{t_{n-1}->t_n}} \\cdot (t_{n}-t_{n-1})$  \n",
    "Our answer will be more and more accurate if we take a smaller and smaller $t_{n}-t_{n-1}$ segments.  "
   ]
  },
  {
   "cell_type": "markdown",
   "metadata": {
    "tags": []
   },
   "source": [
    "#### What we just did above is really the essence of calculus approach - subdividing a calculation into many segments, assume things are linear in each segment and can be easily calculated and then reassembling the calculation from each segment into the final answer.  \n",
    "#### Many tricks have been invented over the last several centuries about how to do the trick but the idea is the same.  \n",
    "Another way to describe what we did above is to say that we solved the following differential equations:  \n",
    "$\\frac{d[P](t)}{dt} = InitialEnzymeRate-t$  with initial condition $[P]_0 = 0$  \n",
    "Yet another way to describe what we did above is to say that we calculated the following integral:  \n",
    "$[P](t)=\\int_{0}^{t}(InitialEnzymeRate-t)dt $  \n",
    "#### Any differential equation or integral can be solved using the computer and the trick above where as a solution you get a list of numbers like we did above. This is called a numerical solution.    \n",
    "A small fractiong of differential equations can be solved exactly (i.e. find $[P](t)=f(P,t)$ instead of finding a list of numbers like we did in a numerical solution) using trick taught in undergrad differential equations classes. This is called an analytical solution and computers can be used to analytical solution in the cases where they exist. \n",
    "#### We will exclusively use computers to solve differential equations during this class and mostly use numerical solutions since most practically interesting problems cannot be solved exactly and using a computer is \"easy\"."
   ]
  },
  {
   "cell_type": "markdown",
   "metadata": {},
   "source": [
    "  "
   ]
  },
  {
   "cell_type": "markdown",
   "metadata": {
    "tags": []
   },
   "source": [
    "## Numerical solution of $\\frac{d[P](t)}{dt}=InitialEnzymeRate-t$\n",
    "**We will have a whole lecture about numerical solutions of differential equations.**  \n",
    "We can solve $\\frac{d[P](t)}{dt}=InitialEnzymeRate-t$  numerically (i.e. find numbers that correspond to a solution without finding an exact function) using SciPy library that allows numerical calculations in Python.  "
   ]
  },
  {
   "cell_type": "code",
   "execution_count": null,
   "metadata": {},
   "outputs": [],
   "source": [
    "# %%timeit\n",
    "\n",
    "# \"%%timeit\" command above is called a \"magic command\" and\n",
    "# this command allows you to measure code execution time\n",
    "# uncomment it to see how fast the differential solution is\n",
    "\n",
    "InitialEnzymeRate = 100\n",
    "final_timepoint = 100\n",
    "number_of_timepoints = 1000\n",
    "\n",
    "# Numerically solve diff equations (dPdt = InitialEnzymeRate - t)\n",
    "# given P0=0 for time points (tspan=[0,final_timepoint]) and save all timepoints in t_eval\n",
    "\n",
    "# Write down differential equation to be solved\n",
    "# Change this differential equation to other functions that depend on t to find their solutions\n",
    "def ODE(t, y):\n",
    "    dPdt = InitialEnzymeRate - t\n",
    "    return dPdt\n",
    "\n",
    "\n",
    "# Write down initial condition and tspan of time that we want the solution at\n",
    "P0 = [0]\n",
    "tspan = [0, final_timepoint]\n",
    "# Actual solution is just this one line of code\n",
    "soln = solve_ivp(\n",
    "    ODE, tspan, P0, t_eval=np.linspace(0, final_timepoint, number_of_timepoints)\n",
    ")\n",
    "\n",
    "# Lets plot the solution\n",
    "plt.scatter(soln.t, soln.y[0])\n",
    "plt.ylabel(\"$[P](t)$\", fontsize=20)\n",
    "plt.tick_params(labelsize=15)\n",
    "plt.grid(which=\"major\", axis=\"both\")\n",
    "plt.xlabel(\"Time, $t$\", fontsize=20);"
   ]
  },
  {
   "cell_type": "markdown",
   "metadata": {},
   "source": [
    "*solve_ivp()* has a lot of various options for using specific algorythms, introducing events etc that you can lookup using *solve_ivp?* and that we will review during our numerical calculations lecture"
   ]
  },
  {
   "cell_type": "code",
   "execution_count": null,
   "metadata": {
    "tags": []
   },
   "outputs": [],
   "source": [
    "solve_ivp?"
   ]
  },
  {
   "cell_type": "markdown",
   "metadata": {},
   "source": [
    "  "
   ]
  },
  {
   "cell_type": "markdown",
   "metadata": {
    "tags": []
   },
   "source": [
    "## Analytical solution of $\\frac{d[P](t)}{dt}=InitialEnzymeRate-t$\n",
    "**We will have a whole lecture about analytical solutions of differential equations.**  \n",
    "We can solve $\\frac{d[P](t)}{dt}=InitialEnzymeRate-t$  analytically (i.e. find an exact function so that $P(t)=f(t)$) using SymPy library that allows symbolic calculations in Python.  "
   ]
  },
  {
   "cell_type": "code",
   "execution_count": null,
   "metadata": {},
   "outputs": [],
   "source": [
    "InitialEnzymeRate = 10\n",
    "\n",
    "# In order to do symbolic calculations we need to tell the computer\n",
    "# what is a function and what is a variable\n",
    "P = sym.symbols(\"P\", cls=sym.Function)  # this defines N as a function\n",
    "t, P0 = sym.symbols(\"t, P0\")  # this defines t and N0 as variable\n",
    "\n",
    "# Write the differential equation that we want to solve\n",
    "# Change this differential equation to other functions that depend on t to find their solutions\n",
    "Equation = sym.Eq(sym.diff(P(t), t), InitialEnzymeRate - t)\n",
    "# Solve differential equation\n",
    "sym.dsolve(Equation, P(t), ics={P(0): 0})"
   ]
  },
  {
   "cell_type": "markdown",
   "metadata": {},
   "source": [
    "*The above three lines of code will solve any differential equation from a Differential Equations textbook (i.e. any differential equation that has an analytical solution) highlighting the power of python and SymPy.*  \n",
    "  \n",
    "Try this textbook avalable online if interested: https://archive.org/details/C.HenryEdwardsDavidE.PenneyElementaryDifferentialEquations6thEdition/page/n13/mode/1up"
   ]
  }
 ],
 "metadata": {
  "kernelspec": {
   "display_name": "Python 3 (ipykernel)",
   "language": "python",
   "name": "python3"
  },
  "language_info": {
   "codemirror_mode": {
    "name": "ipython",
    "version": 3
   },
   "file_extension": ".py",
   "mimetype": "text/x-python",
   "name": "python",
   "nbconvert_exporter": "python",
   "pygments_lexer": "ipython3",
   "version": "3.10.6"
  }
 },
 "nbformat": 4,
 "nbformat_minor": 4
}
