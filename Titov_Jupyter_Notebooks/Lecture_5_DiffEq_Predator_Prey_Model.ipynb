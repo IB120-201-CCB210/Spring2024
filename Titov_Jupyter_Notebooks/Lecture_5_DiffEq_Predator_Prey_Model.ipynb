{
 "cells": [
  {
   "cell_type": "markdown",
   "metadata": {},
   "source": [
    "# <center>CMPBIO210, IB120, IB201\n",
    "# <center>\"Introduction to Quantitative Methods in Biology\"\n",
    "# <center>Lecture 5. ODE Model of Predator-Prey Dynamics\n",
    "## <center>Denis Titov"
   ]
  },
  {
   "cell_type": "markdown",
   "metadata": {},
   "source": [
    "Optional reading resources about Lotka-Volterra model:  \n",
    "https://jmahaffy.sdsu.edu/courses/f09/math636/lectures/lotka/qualde2.html  \n",
    "https://services.math.duke.edu/education/ccp/materials/diffeq/predprey/pred1.html"
   ]
  },
  {
   "cell_type": "markdown",
   "metadata": {},
   "source": [
    "**The goal of this jupyter notebook is to discuss how to formulate, solve and analyze ODE model of predator-prey dynamics and how to find parameters that fit the data**"
   ]
  },
  {
   "cell_type": "code",
   "execution_count": null,
   "metadata": {},
   "outputs": [],
   "source": [
    "import numpy as np\n",
    "import sympy as sym\n",
    "import matplotlib.pyplot as plt\n",
    "from scipy.integrate import solve_ivp\n",
    "from scipy.optimize import minimize, Bounds, differential_evolution, shgo,dual_annealing\n",
    "import pandas as pd"
   ]
  },
  {
   "cell_type": "markdown",
   "metadata": {
    "tags": []
   },
   "source": [
    "## Lotka-Volterra ODE Model\n",
    "\n",
    "Assumtions of the Lotka-Volterra model:\n",
    "- $Hare$ eat unlimited supply of food and grow at rate $b \\cdot Hair$ in absence of $Lynx$\n",
    "- $Lynx$ population declines at a rate $d \\cdot Lynx$ in absence of $Hare$\n",
    "- $Lynx$ eat $Hare$ at rate $k_1 \\cdot Lynx \\cdot Hare$ and have unlimited appetite\n",
    "- $Lynx$ population grows at rate $k_2 \\cdot Hare \\cdot Lynx$ in presence of $Hare$  \n",
    "\n",
    "The model then is:  \n",
    "  \n",
    "$\\frac{dHare}{dt}=b \\cdot Hare - k_1 \\cdot Lynx \\cdot Hare$  \n",
    "  \n",
    "$\\frac{dLynx}{dt}=k_2 \\cdot Lynx \\cdot Hare - d \\cdot Lynx$  "
   ]
  },
  {
   "cell_type": "markdown",
   "metadata": {},
   "source": [
    "Same equations can be used to described so called autocatalytic chemical reactions that are often shown in intro chemistry classes when one of the reactants has color so that reaction contineously chanign color.  \n",
    "See examples video here: https://en.wikipedia.org/wiki/Briggs–Rauscher_reaction"
   ]
  },
  {
   "cell_type": "markdown",
   "metadata": {},
   "source": [
    "Let's solve this model using solve_ivp()"
   ]
  },
  {
   "cell_type": "code",
   "execution_count": null,
   "metadata": {},
   "outputs": [],
   "source": [
    "b = 1\n",
    "k1 = 0.1\n",
    "k2 = 0.1\n",
    "d = 1\n",
    "\n",
    "def LotkaVolterra(t, y):\n",
    "    Hare, Lynx = y\n",
    "    dHare_dt = (b - k1 * Lynx) * Hare\n",
    "    dLynx_dt = (k2 * Hare - d) * Lynx\n",
    "    return [dHare_dt, dLynx_dt]\n",
    "\n",
    "\n",
    "initial_condition = [1, 1]\n",
    "tspan = [0, 100]\n",
    "soln = solve_ivp(\n",
    "    LotkaVolterra, \n",
    "    tspan, \n",
    "    initial_condition) \n",
    "\n",
    "plt.figure(figsize=(8,5), dpi=100)\n",
    "plt.plot(soln.t, soln.y[0],label=\"Hare\")\n",
    "plt.plot(soln.t, soln.y[1],label=\"Lynx\")\n",
    "plt.xlabel(\"Time, $t$\", fontsize=20)\n",
    "plt.ylabel(\"Population Size\", fontsize=20)\n",
    "plt.xticks(fontsize=15)\n",
    "plt.yticks(fontsize=15)\n",
    "plt.grid()\n",
    "plt.legend(fontsize=15);"
   ]
  },
  {
   "cell_type": "markdown",
   "metadata": {},
   "source": [
    "It's always good to check some basic assumptions of the model to make sure you didn't make simply coding or model generation mistake.  \n",
    "Do sanity check of the model.  \n",
    "For example:\n",
    "- $Hare$ population should grow exponentially in absence of $Lynx$\n",
    "- $Lynx$ population should decline exponentially in absence of $Hare$"
   ]
  },
  {
   "cell_type": "markdown",
   "metadata": {},
   "source": [
    "## Phase plot of Lotka-Volterra ODE Model\n"
   ]
  },
  {
   "cell_type": "markdown",
   "metadata": {},
   "source": [
    "Let's plot the solution of this model without solving ODEs.  \n",
    "The idea is to sketch the dynamics of the system on a plot with $Hare$ and $Lynx$ values as x and y axis and arrows at a given [$Hare, Lynx$] coordinate that point in the direction of change of $Hare$ and $Lynx$ given by definition of derivative by the vector [$\\frac{dHare}{dt}, \\frac{dLynx}{dt}$]."
   ]
  },
  {
   "cell_type": "code",
   "execution_count": null,
   "metadata": {},
   "outputs": [],
   "source": [
    "b = 1\n",
    "k1 = 0.1\n",
    "k2 = 0.1\n",
    "d = 1\n",
    "\n",
    "Hare, Lynx = np.mgrid[0:20:15j,0:20:15j]\n",
    "\n",
    "dHare_dt, dLynx_dt = (b - k1 * Lynx) * Hare, (k2 * Hare - d) * Lynx\n",
    "fig, axs = plt.subplots(nrows=1, ncols=2, figsize=(14,7), dpi=100, constrained_layout=True)\n",
    "axs[0].quiver(Lynx, Hare, dLynx_dt, dHare_dt)\n",
    "axs[1].streamplot(Lynx, Hare, dLynx_dt, dHare_dt)\n",
    "\n",
    "for ax in axs:\n",
    "    ax.tick_params(labelsize=15)\n",
    "    #ax.set_xlim(0,1)\n",
    "    #ax.set_ylim(0,1)\n",
    "    ax.grid(which='major', axis='both')\n",
    "    ax.set_xlabel(\"Lynx\",fontsize=20)\n",
    "    ax.set_ylabel(\"Hair\",fontsize=20)"
   ]
  },
  {
   "cell_type": "markdown",
   "metadata": {},
   "source": [
    "## Identification of fixed points\n",
    "Also referred to as equilibrium or steady state points\n",
    "  \n",
    "  Fixed points are points where $Hare$ and $Lynx$ population don't change/stay fixed. In ODE math language that would be:\n",
    "  \n",
    "  $\\frac{dHare}{dt}=0$  \n",
    "  \n",
    "  $\\frac{dLynx}{dt}=0$  \n",
    "  \n",
    "  We can find fixed points by solving the equations below:  \n",
    "  \n",
    "$\\frac{dHare}{dt}=b \\cdot Hare - k_1 \\cdot Lynx \\cdot Hare=0$  \n",
    "  \n",
    "$\\frac{dLynx}{dt}=k_2 \\cdot Lynx \\cdot Hare - d \\cdot Lynx=0$  \n"
   ]
  },
  {
   "cell_type": "code",
   "execution_count": null,
   "metadata": {},
   "outputs": [],
   "source": [
    "Hare, Lynx, b, k1, k2, d = sym.symbols(\"Hare, Lynx, b, k1, k2, d\")\n",
    "sym.nonlinsolve(\n",
    "    [(b - k1 * Lynx) * Hare, (k2 * Hare - d) * Lynx],\n",
    "    [Hare,Lynx]\n",
    ")"
   ]
  },
  {
   "cell_type": "markdown",
   "metadata": {},
   "source": [
    "Confirm that these are fixed points by plugging them as initial conditions in solve_ivp().  \n",
    "If these are initial point, you should observe straight horizontal line solutins because $\\frac{dHare}{dt}=0$ and $\\frac{dLynx}{dt}=0$. "
   ]
  },
  {
   "cell_type": "markdown",
   "metadata": {
    "tags": []
   },
   "source": [
    "## Analysis of stability of fixed points\n",
    "It is often interesting to know if fixed points are stable (i.e. system returns to fixed point after small perturbation) or unstable (i.e. system moves away from fixed points after small perturbation).  \n",
    "\n",
    "You can check the stability of fixed points by change the initial values in solve_ivp() by 1% away from fixed point and seeing what happens.  \n",
    "\n",
    "Try this using solve_ivp() code above.  \n",
    "  \n",
    "  It is also possible to analytically figure out whether fixed points are stable using eigenvalues and eigenvectors of matrix representation of Lotka-Volterra equations but we won't have time to review this during lectures."
   ]
  },
  {
   "cell_type": "markdown",
   "metadata": {},
   "source": [
    "## Fitting Lotka-Volterra model to data to find constants\n",
    "Lets explore how we can measure the constants by fitting the Lotka-Volterra model to data"
   ]
  },
  {
   "cell_type": "markdown",
   "metadata": {},
   "source": [
    "### Data for fitting"
   ]
  },
  {
   "cell_type": "code",
   "execution_count": null,
   "metadata": {},
   "outputs": [],
   "source": [
    "LotkaVolterra_Data = pd.read_csv(\"Hare_Lynx_data.csv\",index_col=None)\n",
    "\n",
    "# Convert Pandas columns into numpy arrays for later calculations\n",
    "Hares_Data=LotkaVolterra_Data['Hares (x1000)'].to_numpy()\n",
    "Lynx_Data=LotkaVolterra_Data['Lynx (x1000)'].to_numpy()\n",
    "\n",
    "LotkaVolterra_Data"
   ]
  },
  {
   "cell_type": "markdown",
   "metadata": {},
   "source": [
    "Let's plot the data and compare to our model"
   ]
  },
  {
   "cell_type": "code",
   "execution_count": null,
   "metadata": {},
   "outputs": [],
   "source": [
    "b = 1\n",
    "k1 = 0.1\n",
    "k2 = 0.1\n",
    "d = 1\n",
    "\n",
    "def LotkaVolterra(t, y):\n",
    "    Hare, Lynx = y\n",
    "    dHare_dt = (b - k1 * Lynx) * Hare\n",
    "    dLynx_dt = (k2 * Hare - d) * Lynx\n",
    "    return [dHare_dt, dLynx_dt]\n",
    "\n",
    "\n",
    "initial_condition = [Hares_Data[0], Lynx_Data[0]]\n",
    "tspan = [0, 100]\n",
    "t_eval = np.linspace(0,20,21)\n",
    "soln = solve_ivp(\n",
    "    LotkaVolterra, \n",
    "    tspan, \n",
    "    initial_condition,\n",
    "    t_eval = t_eval\n",
    ") \n",
    "\n",
    "plt.figure(figsize=(8,5), dpi=100)\n",
    "plt.plot(soln.t, soln.y[0], 'gx--', label=\"Hare Model\")\n",
    "plt.plot(np.linspace(0,20,21), Hares_Data, 'go-', label=\"Hare Data\")\n",
    "plt.plot(soln.t, soln.y[1], 'rx--',label=\"Lynx Model\")\n",
    "plt.plot(np.linspace(0,20,21), Lynx_Data, 'ro-',label=\"Lynx Data\")\n",
    "plt.xlabel(\"Time, $t$\", fontsize=20)\n",
    "plt.ylabel(\"Population Size\", fontsize=20)\n",
    "plt.xticks(fontsize=15)\n",
    "plt.yticks(fontsize=15)\n",
    "plt.grid()\n",
    "plt.legend(fontsize=15, loc=\"upper right\");"
   ]
  },
  {
   "cell_type": "markdown",
   "metadata": {},
   "source": [
    "### Idea behind the method for fitting ODE model to data"
   ]
  },
  {
   "cell_type": "markdown",
   "metadata": {},
   "source": [
    "Our goal is to determine the values of $b$, $k1$, $k2$ and $d$ so that our model is as close to data as possible.  \n",
    "  \n",
    "  There're many ways to do this and the whole scipy.optimize library is dedicated to various ways of perform this operation.  \n",
    "  \n",
    "  One simple way to do this is to calculate  \n",
    "  \n",
    "  $\\overset{All \\space Data \\space Points}{ \\underset{n=1}{\\sum}} (Data(t)-Model(t))^2$  \n",
    "  \n",
    "  for every point of $Hare$ and $Lynx$ data and then change $b$, $k1$, $k2$ and $d$ to make this $\\sum$ as small as possible.  \n",
    "  \n",
    "  Let's implement the above manually and then using SciPy functions."
   ]
  },
  {
   "cell_type": "code",
   "execution_count": null,
   "metadata": {},
   "outputs": [],
   "source": [
    "def fitting_fun(parameters):\n",
    "    b, k1, k2, d = parameters\n",
    "    \n",
    "    def LotkaVolterra(t, y):\n",
    "        Hare, Lynx = y\n",
    "        dHare_dt = (b - k1 * Lynx) * Hare\n",
    "        dLynx_dt = (k2 * Hare - d) * Lynx\n",
    "        return [dHare_dt, dLynx_dt]\n",
    "    \n",
    "    #Choose initial_condition to match initial data\n",
    "    initial_condition = [Hares_Data[0], Lynx_Data[0]]\n",
    "    tspan = [0, 20]\n",
    "    \n",
    "    #Choose t_eval so ODE solution timepoint match data timepoints\n",
    "    t_eval = np.linspace(0,20,21)\n",
    "    soln = solve_ivp(\n",
    "        LotkaVolterra, \n",
    "        tspan, \n",
    "        initial_condition,\n",
    "        t_eval = t_eval\n",
    "    )\n",
    "    return (np.append(soln.y[0] - Hares_Data, soln.y[1] - Lynx_Data)**2).sum()\n",
    "\n",
    "parameters=[1, 1, 1, 1]\n",
    "fitting_fun(parameters)"
   ]
  },
  {
   "cell_type": "markdown",
   "metadata": {},
   "source": [
    "### Local minimization"
   ]
  },
  {
   "cell_type": "markdown",
   "metadata": {},
   "source": [
    "Let's use automatic minimization algorithm to find ODE parameters b, k1, k2, d that minimize fitting_fun().  \n",
    "  \n",
    "Minimization of function is required for a large number of quantitative methods and SciPy library has a large number of minimization algorirthms as part of scipy.optimize. Similar to how SciPy has many ODE solvers implemented in solve_ivp(), it has minimize() with many minimization algorithms.\n",
    "  \n",
    "Let's try minimize() function with boundary conditions."
   ]
  },
  {
   "cell_type": "code",
   "execution_count": null,
   "metadata": {},
   "outputs": [],
   "source": [
    "# bounds can be used to limit the range of parameters that minimize() searches over\n",
    "# bounds will speedup minimize()\n",
    "bounds = Bounds([0.001,0.001,0.001,0.001], [1,1,1,1])\n",
    "\n",
    "# minimize() requires you to provide an initial guess of parameter values\n",
    "initial_guess=[0.5, 0.05, 0.05, 0.5]\n",
    "\n",
    "local_fit = minimize(fitting_fun, initial_guess, bounds=bounds)\n",
    "local_fit"
   ]
  },
  {
   "cell_type": "markdown",
   "metadata": {},
   "source": [
    "Let's check how good are the new parameters"
   ]
  },
  {
   "cell_type": "code",
   "execution_count": null,
   "metadata": {},
   "outputs": [],
   "source": [
    "b, k1, k2, d = local_fit.x\n",
    "\n",
    "def LotkaVolterra(t, y):\n",
    "    Hare, Lynx = y\n",
    "    dHare_dt = (b - k1 * Lynx) * Hare\n",
    "    dLynx_dt = (k2 * Hare - d) * Lynx\n",
    "    return [dHare_dt, dLynx_dt]\n",
    "\n",
    "\n",
    "initial_condition = [30, 4]\n",
    "tspan = [0, 100]\n",
    "t_eval = np.linspace(0,20,1000)\n",
    "soln = solve_ivp(\n",
    "    LotkaVolterra, \n",
    "    tspan, \n",
    "    initial_condition,\n",
    "    t_eval = t_eval\n",
    ") \n",
    "\n",
    "plt.figure(figsize=(8,5), dpi=100)\n",
    "plt.plot(soln.t, soln.y[0], 'g--', label=\"Hare Model\")\n",
    "plt.plot(np.linspace(0,20,21), Hares_Data, 'go-', label=\"Hare Data\")\n",
    "plt.plot(soln.t, soln.y[1], 'r--',label=\"Lynx Model\")\n",
    "plt.plot(np.linspace(0,20,21), Lynx_Data, 'ro-',label=\"Lynx Data\")\n",
    "plt.xlabel(\"Time, $t$\", fontsize=20)\n",
    "plt.ylabel(\"Population Size\", fontsize=20)\n",
    "plt.xticks(fontsize=15)\n",
    "plt.yticks(fontsize=15)\n",
    "plt.grid()\n",
    "plt.legend(fontsize=15, loc=\"upper right\");"
   ]
  },
  {
   "cell_type": "markdown",
   "metadata": {},
   "source": [
    "Try changing the *initial_guess* and see how your results will change.  \n",
    "  \n",
    "  You should have noticed that minimize() provides the best answer only if *initial_guess* is somewhat close to best answer. This is becasue some functions can have global minimum and local minimum.  minimize() only find local minimum so if you start far away from best answer there's a chance that minimize() will be stuck in local minimum.  "
   ]
  },
  {
   "cell_type": "markdown",
   "metadata": {
    "tags": []
   },
   "source": [
    "### Global minimization\n",
    "  Due to the reason described above, there're global minimization algorithms that are essentially algorithms geared to choose the best *initial_guess* conditions to ensure that minimize() doesn't get stuck in local minimum.  \n",
    "  \n",
    "  Lets' use one of global minimization algorithms called differential_evolution(). The idea behind this method is that you start with population and let it mutate and recombine with selective pressure of minimizing the function that you're interested in.  \n",
    "  \n",
    "  differential_evolution() finds our parameters without an *initial_guess*\n",
    "  \n",
    "  You can read about differential_evolution() here: https://doi.org/10.1023%2FA%3A1008202821328"
   ]
  },
  {
   "cell_type": "code",
   "execution_count": null,
   "metadata": {},
   "outputs": [],
   "source": [
    "%%time\n",
    "parameters_bounds = [(0.001, 1),(0.001, 1),(0.001, 1),(0.001, 1)]\n",
    "global_fit = differential_evolution(fitting_fun, parameters_bounds)\n",
    "global_fit"
   ]
  },
  {
   "cell_type": "code",
   "execution_count": null,
   "metadata": {},
   "outputs": [],
   "source": [
    "b, k1, k2, d = global_fit.x\n",
    "\n",
    "def LotkaVolterra(t, y):\n",
    "    Hare, Lynx = y\n",
    "    dHare_dt = (b - k1 * Lynx) * Hare\n",
    "    dLynx_dt = (k2 * Hare - d) * Lynx\n",
    "    return [dHare_dt, dLynx_dt]\n",
    "\n",
    "\n",
    "initial_condition = [30, 4]\n",
    "tspan = [0, 100]\n",
    "t_eval = np.linspace(0,20,1000)\n",
    "soln = solve_ivp(\n",
    "    LotkaVolterra, \n",
    "    tspan, \n",
    "    initial_condition,\n",
    "    t_eval = t_eval\n",
    ") \n",
    "\n",
    "plt.figure(figsize=(8,5), dpi=100)\n",
    "plt.plot(soln.t, soln.y[0], 'g--', label=\"Hare Model\")\n",
    "plt.plot(np.linspace(0,20,21), Hares_Data, 'go-', label=\"Hare Data\")\n",
    "plt.plot(soln.t, soln.y[1], 'r--',label=\"Lynx Model\")\n",
    "plt.plot(np.linspace(0,20,21), Lynx_Data, 'ro-',label=\"Lynx Data\")\n",
    "plt.xlabel(\"Time, $t$\", fontsize=20)\n",
    "plt.ylabel(\"Population Size\", fontsize=20)\n",
    "plt.xticks(fontsize=15)\n",
    "plt.yticks(fontsize=15)\n",
    "plt.grid()\n",
    "plt.legend(fontsize=15, loc=\"upper right\");"
   ]
  },
  {
   "cell_type": "markdown",
   "metadata": {},
   "source": [
    "Try boundaries (0.001,10) for all parameters differential_evolution optimization and see what happens. Note that using larger boundaries takes ~7.5min on my computer. If you're lazy, the solution is [6.22460119, 0.32922744, 0.2923544 , 9.46871131]"
   ]
  }
 ],
 "metadata": {
  "kernelspec": {
   "display_name": "Python 3 (ipykernel)",
   "language": "python",
   "name": "python3"
  },
  "language_info": {
   "codemirror_mode": {
    "name": "ipython",
    "version": 3
   },
   "file_extension": ".py",
   "mimetype": "text/x-python",
   "name": "python",
   "nbconvert_exporter": "python",
   "pygments_lexer": "ipython3",
   "version": "3.10.6"
  }
 },
 "nbformat": 4,
 "nbformat_minor": 4
}
