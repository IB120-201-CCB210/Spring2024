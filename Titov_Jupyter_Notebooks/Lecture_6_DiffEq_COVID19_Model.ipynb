{
 "cells": [
  {
   "cell_type": "markdown",
   "metadata": {},
   "source": [
    "# <center>CMPBIO210, IB120, IB201\n",
    "# <center>\"Introduction to Quantitative Methods in Biology\"\n",
    "# <center>Lecture 6. ODE Model of COVID19 infection\n",
    "## <center>Denis Titov"
   ]
  },
  {
   "cell_type": "markdown",
   "metadata": {},
   "source": [
    "**The goal of this jupyter notebook is to discuss how to formulate, solve and analyze ODE model of infection dynamics**"
   ]
  },
  {
   "cell_type": "markdown",
   "metadata": {},
   "source": [
    "Optional additional resources:  \n",
    " https://en.wikipedia.org/wiki/Compartmental_models_in_epidemiology  \n",
    " https://julia.quantecon.org/continuous_time/seir_model.html  \n",
    " https://julia.quantecon.org/continuous_time/covid_sde.html  \n"
   ]
  },
  {
   "cell_type": "code",
   "execution_count": null,
   "metadata": {},
   "outputs": [],
   "source": [
    "import matplotlib.pyplot as plt\n",
    "import numpy as np\n",
    "import sympy as sym\n",
    "from scipy.integrate import solve_ivp"
   ]
  },
  {
   "cell_type": "markdown",
   "metadata": {
    "tags": []
   },
   "source": [
    "## SIR Model of COVID19\n",
    "\n",
    "SIR stands for Susceptible, Infected, Removed.\n",
    "\n",
    "Assumption of the model:\n",
    "- $Susceptible$ people can be infected when the meet with $Infected$ people at a rate $\\beta$\n",
    "- $Infected$ people recover at a rate $\\gamma$ and become $Removed$\n",
    "- $Removed$ people cannot be infected as they are immune or deceased\n",
    "- $Total Population$ is large and everyone is interacting with everyone with equal probability\n",
    "  \n",
    "Some general suggestion about how to write down differential equations model:  \n",
    "- Number of equations should be equal to number of variable that depend on time in your model. E.g., we have three time-dependent variables $Susceptible$, $Infected$, $Removed$ that change over time.  \n",
    "- In many models, you'll have some combination of variables that are conserved so it is  good practice to keep track of those conserved values (i.e., plot them as part of solution) to ensure that they stay conserved and if they are not conserved then you wrote down some equations wrong. E.g., Total Population is conserved here, total amount of phosphorylated and unphosphorylated protein is conserved in the absence of translation and protein degradation, total amount of some phosphate atoms inside the cell is conserved in the absence of phosphate uptake or secretions etc.  \n",
    "- Related to conservation, when one variable is transformed into another then differential equations for these variable should have mirror consumbption/production terms. E.g., $Susceptible$ and $Infected$ or $Removed$ and $Infected$ terms in this model.  \n",
    "  \n",
    "The model is then:  \n",
    "  \n",
    "$\\frac{dSusceptible}{dt}=-\\beta \\cdot \\frac{Susceptible}{Total} \\cdot Infected$  \n",
    "  \n",
    "$\\frac{dInfected}{dt}=\\beta \\cdot \\frac{Susceptible}{Total} \\cdot Infected - \\gamma \\cdot Infected$  \n",
    "\n",
    "$\\frac{dRemoved}{dt}=\\gamma \\cdot Infected$  \n",
    "  \n",
    "$Total \\space Population = Susceptible + Infected + Removed$\n",
    "\n",
    "\n",
    "  Note that in order for the above model to be balance (i.e. no new individuals are produced out of nothing) you have to make sure that the rate of disappearance of one species (e.g. for $S$ rate of disapperance is $-\\beta \\cdot \\frac{Susceptible}{Total} \\cdot Infected$) appears as the rate of appearance of another species (e.g. for $I$ rate of appearance is $-\\beta \\cdot \\frac{Susceptible}{Total} \\cdot Infected$). Otherwise your model will be obviously wrong as you'll have $Total \\space Population$ changing over time."
   ]
  },
  {
   "cell_type": "code",
   "execution_count": null,
   "metadata": {},
   "outputs": [],
   "source": [
    "β = 0.9 #units of people/day\n",
    "γ = 0.3 #units of 1/day\n",
    "\n",
    "\n",
    "def SIR_Model(t, y):\n",
    "    S, I, R = y\n",
    "    N = S + I + R\n",
    "    dSdt = -β * (S / N) * I\n",
    "    dIdt = β * (S / N) * I - γ * I\n",
    "    dRdt = γ * I\n",
    "    return [dSdt, dIdt, dRdt]\n",
    "\n",
    "\n",
    "initial_condition = [330e6, 1, 0]\n",
    "tspan = [0, 100]\n",
    "soln = solve_ivp(\n",
    "    SIR_Model, tspan, initial_condition, t_eval=np.linspace(0, tspan[1], 1000)\n",
    ")\n",
    "\n",
    "plt.figure(figsize=(8, 5), dpi=100)\n",
    "plt.plot(soln.t, soln.y[0], label=\"Susceptible\")\n",
    "plt.plot(soln.t, soln.y[1], label=\"Infected\")\n",
    "plt.plot(soln.t, soln.y[2], label=\"Removed\")\n",
    "plt.xlabel(\"Time, days\", fontsize=20)\n",
    "plt.ylabel(\"Population Size\", fontsize=20)\n",
    "plt.xticks(fontsize=15)\n",
    "plt.yticks(fontsize=15)\n",
    "plt.grid()\n",
    "plt.legend(fontsize=15);"
   ]
  },
  {
   "cell_type": "markdown",
   "metadata": {},
   "source": [
    "It is always a good idea to do various sanity checks of your model.  \n",
    "For example, for SIR model above we can check that $Total \\space Population$ stays constant.  \n",
    "Checking for conservation of sum  of dynamic variables in your model is a good way to find errors in your model.  "
   ]
  },
  {
   "cell_type": "code",
   "execution_count": null,
   "metadata": {},
   "outputs": [],
   "source": [
    "plt.figure(figsize=(8, 5), dpi=100)\n",
    "plt.plot(soln.t, (soln.y[0] + soln.y[1] + soln.y[2]), label=\"Total\")\n",
    "plt.xlabel(\"Time, days\", fontsize=20)\n",
    "plt.ylabel(\"Population Size\", fontsize=20)\n",
    "plt.xticks(fontsize=15)\n",
    "plt.yticks(fontsize=15)\n",
    "plt.grid()\n",
    "plt.legend(fontsize=15);"
   ]
  },
  {
   "cell_type": "markdown",
   "metadata": {},
   "source": [
    "## Fixed points of SIR model and $R_0$\n",
    "\n",
    "One of the goals of epidemiological modeling is to figure out how to prevent/stop infection from infecting many people.  \n",
    "  \n",
    "Let's analyze SIR model to see how we can do this:  \n",
    "  \n",
    "$N = S + I + R$\n",
    "  \n",
    "$\\frac{dS}{dt}=-\\beta \\cdot \\frac{S}{N} \\cdot I$  \n",
    "  \n",
    "$\\frac{dI}{dt}=\\beta \\cdot \\frac{S}{N} \\cdot I - \\gamma \\cdot I$  \n",
    "\n",
    "$\\frac{dR}{dt}=\\gamma \\cdot I$  \n",
    "  \n",
    "  We want $\\frac{dS}{dt}=0, \\frac{dI}{dt}=0$, and $\\frac{dR}{dt}=0$  \n",
    "  \n",
    "  Solutions for $\\frac{dS}{dt}=0$ and $\\frac{dR}{dt}=0$ are boring: $S=0$, $I=0$.    \n",
    "  Let's use SymPy to solve for $\\frac{dI}{dt}=0$.  \n"
   ]
  },
  {
   "cell_type": "code",
   "execution_count": null,
   "metadata": {},
   "outputs": [],
   "source": [
    "β, γ, S, I, N = sym.symbols(\"β,γ,S,I,N\")\n",
    "sym.nonlinsolve([β * (S / N) * I - γ * I], [S])"
   ]
  },
  {
   "cell_type": "markdown",
   "metadata": {},
   "source": [
    "The result is that $\\frac{dI}{dt}=0$ when $\\frac{S}{N}=\\frac{\\gamma}{\\beta}$.  \n",
    "  \n",
    "  This result is so fundamental that $\\frac{\\beta}{\\gamma}$ is called a reproductive number or $R_0$"
   ]
  },
  {
   "cell_type": "markdown",
   "metadata": {},
   "source": [
    "## SIR model with $R_0$ \n",
    "  \n",
    "Let's rewrite our SIR model using only $R_0$ and $\\gamma$ to study significance of $R_0$:\n",
    "  \n",
    "$N = S + I + R$  \n",
    "  \n",
    "  $R_0=\\frac{\\beta}{\\gamma}$\n",
    " \n",
    "$\\frac{dS}{dt}=-\\gamma \\cdot R_0 \\cdot \\frac{S}{N} \\cdot I$  \n",
    "  \n",
    "$\\frac{dI}{dt}=\\gamma \\cdot R_0 \\cdot \\frac{S}{N} \\cdot I - \\gamma \\cdot I$  \n",
    "\n",
    "$\\frac{dR}{dt}=\\gamma \\cdot I$  \n",
    "  \n",
    "  Let's solve this new model with solve_ivp().  \n",
    "  Compare new model using $R_0=3$, $\\gamma=0.3$ with original model $\\beta=3$, $\\gamma=0.3$ to confirm that the results are exactly identical."
   ]
  },
  {
   "cell_type": "code",
   "execution_count": null,
   "metadata": {},
   "outputs": [],
   "source": [
    "R0 = 3 #units of people\n",
    "γ = 0.3 #units of 1/day\n",
    "\n",
    "\n",
    "def SIR_Model(t, y):\n",
    "    S, I, R = y\n",
    "    N = S + I + R\n",
    "    dSdt = -γ * R0 * (S / N) * I\n",
    "    dIdt = γ * R0 * (S / N) * I - γ * I\n",
    "    dRdt = γ * I\n",
    "    return [dSdt, dIdt, dRdt]\n",
    "\n",
    "\n",
    "initial_condition = [330e6, 1, 0]\n",
    "tspan = [0, 100]\n",
    "soln = solve_ivp(\n",
    "    SIR_Model, tspan, initial_condition, t_eval=np.linspace(0, tspan[1], 1000)\n",
    ")\n",
    "\n",
    "plt.figure(figsize=(8, 5), dpi=100)\n",
    "plt.plot(soln.t, soln.y[0], label=\"Susceptible\")\n",
    "plt.plot(soln.t, soln.y[1], label=\"Infected\")\n",
    "plt.plot(soln.t, soln.y[2], label=\"Removed\")\n",
    "plt.xlabel(\"Time, days\", fontsize=20)\n",
    "plt.ylabel(\"Population Size\", fontsize=20)\n",
    "plt.xticks(fontsize=15)\n",
    "plt.yticks(fontsize=15)\n",
    "plt.grid()\n",
    "plt.legend(fontsize=15);"
   ]
  },
  {
   "cell_type": "markdown",
   "metadata": {},
   "source": [
    "Let's plot the results of SIR model with various values for $R_0$ and fixed $\\gamma$"
   ]
  },
  {
   "cell_type": "code",
   "execution_count": null,
   "metadata": {},
   "outputs": [],
   "source": [
    "plt.figure(figsize=(8, 5), dpi=100)\n",
    "\n",
    "for k in [0.9, 1.5, 2, 4, 8]:\n",
    "    R0 = k\n",
    "    γ = 0.3\n",
    "\n",
    "    def SIR_Model(t, y):\n",
    "        S, I, R = y\n",
    "        N = S + I + R\n",
    "        dSdt = -γ * R0 * (S / N) * I\n",
    "        dIdt = γ * R0 * (S / N) * I - γ * I\n",
    "        dRdt = γ * I\n",
    "        return [dSdt, dIdt, dRdt]\n",
    "\n",
    "    initial_condition = [330e6, 1, 0]\n",
    "    tspan = [0, 200]\n",
    "    soln = solve_ivp(\n",
    "        SIR_Model, tspan, initial_condition, t_eval=np.linspace(0, tspan[1], 1000)\n",
    "    )\n",
    "\n",
    "    # Feel free to comment out 2 of the plots below using \"#\" to show less plots\n",
    "    plt.plot(soln.t, soln.y[0], label=f\"Susceptible $R_0$={R0}\")\n",
    "    plt.plot(soln.t, soln.y[1], label=f\"Infected $R_0$={R0}\")\n",
    "    plt.plot(soln.t, soln.y[2], label=f\"Removed $R_0$={R0}\")\n",
    "\n",
    "plt.xlabel(\"Time, days\", fontsize=20)\n",
    "plt.ylabel(\"Population Size\", fontsize=20)\n",
    "plt.xticks(fontsize=15)\n",
    "plt.yticks(fontsize=15)\n",
    "#try changing ylim upper bound to see what happens at R0=1 or 0.99 or 0.5\n",
    "# plt.ylim(0,100)\n",
    "plt.grid()\n",
    "plt.legend(fontsize=10, bbox_to_anchor=(1.05, 1), loc=\"upper left\");"
   ]
  },
  {
   "cell_type": "markdown",
   "metadata": {},
   "source": [
    "You can see from above results that the peak number of infected people and the fraction of the population that will get infected depends entirely on $R_0$."
   ]
  },
  {
   "cell_type": "markdown",
   "metadata": {},
   "source": [
    "Let's plot the results of SIR model with various values for $\\gamma$ and fixed $R_0$"
   ]
  },
  {
   "cell_type": "code",
   "execution_count": null,
   "metadata": {},
   "outputs": [],
   "source": [
    "plt.figure(figsize=(8, 5), dpi=100)\n",
    "\n",
    "for k in [0.1, 0.2, 0.3, 0.5, 1]:\n",
    "    R0 = 2\n",
    "    γ = k\n",
    "\n",
    "    def SIR_Model(t, y):\n",
    "        S, I, R = y\n",
    "        N = S + I + R\n",
    "        dSdt = -γ * R0 * (S / N) * I\n",
    "        dIdt = γ * R0 * (S / N) * I - γ * I\n",
    "        dRdt = γ * I\n",
    "        return [dSdt, dIdt, dRdt]\n",
    "\n",
    "    initial_condition = [330e6, 1, 0]\n",
    "    tspan = [0, 300]\n",
    "    soln = solve_ivp(\n",
    "        SIR_Model, tspan, initial_condition, t_eval=np.linspace(0, tspan[1], 1000)\n",
    "    )\n",
    "    # Feel free to comment out 2 of the plots below using \"#\" to show less plots\n",
    "    plt.plot(soln.t, soln.y[0], label=f\"Susceptible $γ$={γ}\")\n",
    "    plt.plot(soln.t, soln.y[1], label=f\"Infected $γ$={γ}\")\n",
    "    plt.plot(soln.t, soln.y[2], label=f\"Removed $γ$={γ}\")\n",
    "\n",
    "plt.xlabel(\"Time, days\", fontsize=20)\n",
    "plt.ylabel(\"Population Size\", fontsize=20)\n",
    "plt.xticks(fontsize=15)\n",
    "plt.yticks(fontsize=15)\n",
    "plt.grid()\n",
    "plt.legend(fontsize=10, bbox_to_anchor=(1.05, 1), loc=\"upper left\");"
   ]
  },
  {
   "cell_type": "markdown",
   "metadata": {},
   "source": [
    "You can see from above results that the peak number of infected people and the fraction of the population that will get infected does not depends on $\\gamma$ at all but the time when the peak is reached does depend on $\\gamma$. "
   ]
  },
  {
   "cell_type": "markdown",
   "metadata": {},
   "source": [
    "## SIRD Model \n",
    "  \n",
    "We can extend SIR model to include mortality:\n",
    "  \n",
    "$N = S + I + R + D$  \n",
    "  \n",
    "  $R_0=\\frac{\\beta}{\\gamma}$\n",
    " \n",
    "$\\frac{dS}{dt}=-(\\gamma + \\mu) \\cdot R_0 \\cdot \\frac{S}{N} \\cdot I$  \n",
    "  \n",
    "$\\frac{dI}{dt}=(\\gamma + \\mu) \\cdot R_0 \\cdot \\frac{S}{N} \\cdot I - (\\gamma + \\mu) \\cdot I$  \n",
    "\n",
    "$\\frac{dR}{dt}=\\gamma \\cdot I$  \n",
    "  \n",
    "$\\frac{dD}{dt}=\\mu \\cdot I$  \n",
    "\n",
    "  \n",
    "  Let's solve this new model with solve_ivp().  "
   ]
  },
  {
   "cell_type": "code",
   "execution_count": null,
   "metadata": {},
   "outputs": [],
   "source": [
    "R0 = 3\n",
    "γ = 0.3\n",
    "μ = 0.003\n",
    "\n",
    "\n",
    "def SIRD_Model(t, y):\n",
    "    S, I, R, D = y\n",
    "    N = S + I + R\n",
    "    dSdt = -(γ + μ) * R0 * (S / N) * I\n",
    "    dIdt = (γ + μ) * R0 * (S / N) * I - (γ + μ) * I\n",
    "    dRdt = γ * I\n",
    "    dDdt = μ * I\n",
    "\n",
    "    return [dSdt, dIdt, dRdt, dDdt]\n",
    "\n",
    "\n",
    "initial_condition = [330e6, 1, 0, 0]\n",
    "tspan = [0, 100]\n",
    "soln = solve_ivp(\n",
    "    SIRD_Model, tspan, initial_condition, t_eval=np.linspace(0, tspan[1], 1000)\n",
    ")\n",
    "\n",
    "plt.figure(figsize=(8, 5), dpi=100)\n",
    "plt.plot(soln.t, soln.y[0], label=\"Susceptible\")\n",
    "plt.plot(soln.t, soln.y[1], label=\"Infected\")\n",
    "plt.plot(soln.t, soln.y[2], label=\"Recovered\")\n",
    "plt.plot(soln.t, soln.y[3], label=\"Deceased\")\n",
    "\n",
    "plt.xlabel(\"Time, days\", fontsize=20)\n",
    "plt.ylabel(\"Population Size\", fontsize=20)\n",
    "plt.xticks(fontsize=15)\n",
    "plt.yticks(fontsize=15)\n",
    "#try changing ylim upper bound to see what happened with D\n",
    "#plt.ylim(0,5e6)\n",
    "plt.grid()\n",
    "plt.legend(fontsize=15);"
   ]
  },
  {
   "cell_type": "markdown",
   "metadata": {},
   "source": [
    "## SIRD model with lockdowns\n",
    "Lets explore how lockdowns would affect our model.  \n",
    "We will assume that lockdown lowers $R_0$ from 2 to 0.8 for the duration of lockdown and returns to 2 after lockdown is over."
   ]
  },
  {
   "cell_type": "code",
   "execution_count": null,
   "metadata": {},
   "outputs": [],
   "source": [
    "R0 = 2\n",
    "γ = 0.3\n",
    "μ = 0.003\n",
    "plt.figure(figsize=(8, 5), dpi=100)\n",
    "\n",
    "for k in [0, 10, 30, 90]:\n",
    "\n",
    "    def SIRD_Model_w_lockdown(t, y):\n",
    "        if 10 < t < 10 + k:\n",
    "            R0 = 0.8\n",
    "        else:\n",
    "            R0 = 2\n",
    "\n",
    "        S, I, R, D = y\n",
    "        N = S + I + R\n",
    "        dSdt = -(γ + μ) * R0 * (S / N) * I\n",
    "        dIdt = (γ + μ) * R0 * (S / N) * I - (γ + μ) * I\n",
    "        dRdt = γ * I\n",
    "        dDdt = μ * I\n",
    "\n",
    "        return [dSdt, dIdt, dRdt, dDdt]\n",
    "\n",
    "    initial_condition = [330e6, 1, 0, 0]\n",
    "    tspan = [0, 250]\n",
    "    soln = solve_ivp(\n",
    "        SIRD_Model_w_lockdown, tspan, initial_condition, t_eval=np.linspace(0, tspan[1], 1000)\n",
    "    )\n",
    "\n",
    "    plt.plot(soln.t, soln.y[0], label=f\"Susceptible Lockdown=10-{10+k}\")\n",
    "    plt.plot(soln.t, soln.y[1], label=f\"Infected Lockdown=10-{10+k}\")\n",
    "    plt.plot(soln.t, soln.y[2], label=f\"Recovered Lockdown=10-{10+k}\")\n",
    "    plt.plot(soln.t, soln.y[3], label=f\"Deceased Lockdown=10-{10+k}\")\n",
    "\n",
    "plt.xlabel(\"Time, days\", fontsize=20)\n",
    "plt.ylabel(\"Population Size\", fontsize=20)\n",
    "plt.xticks(fontsize=15)\n",
    "plt.yticks(fontsize=15)\n",
    "#try changing ylim upper bound to see what happens at with I during lockdown\n",
    "# plt.ylim(0,100)\n",
    "plt.grid()\n",
    "plt.legend(fontsize=10, bbox_to_anchor=(1.05, 1), loc=\"upper left\");"
   ]
  },
  {
   "cell_type": "markdown",
   "metadata": {},
   "source": [
    "You can see that lockdwon would slow down the onset of a peak of infections but will not lower or prevent it.  Therefore, lasting changes to $R_0$ or $\\mu$ should be implemented during lockdown to change the course of the pandemic based on this simple model."
   ]
  },
  {
   "cell_type": "markdown",
   "metadata": {},
   "source": [
    "## SIRD model with vaccination\n",
    "Lets explore how vaccination would affect our model.  \n",
    "We will assume that vaccination converts $Susceptible$ people to $Recovered$.  \n",
    "We will introduce parameter k which $FractionVaccinated$."
   ]
  },
  {
   "cell_type": "code",
   "execution_count": null,
   "metadata": {},
   "outputs": [],
   "source": [
    "plt.figure(figsize=(8, 5), dpi=100)\n",
    "\n",
    "for k in [0, 0.25, 0.55]:\n",
    "    R0 = 2\n",
    "    γ = 0.3\n",
    "    μ = 0.003\n",
    "\n",
    "    def SIRD_Model(t, y):\n",
    "        S, I, R, D = y\n",
    "        N = S + I + R\n",
    "        dSdt = -(γ + μ) * R0 * (S / N) * I\n",
    "        dIdt = (γ + μ) * R0 * (S / N) * I - (γ + μ) * I\n",
    "        dRdt = γ * I\n",
    "        dDdt = μ * I\n",
    "        return [dSdt, dIdt, dRdt, dDdt]\n",
    "\n",
    "    initial_condition = [330e6-k*330e6, 1, k*330e6, 0]\n",
    "    tspan = [0, 400]\n",
    "    soln = solve_ivp(\n",
    "        SIRD_Model, tspan, initial_condition, t_eval=np.linspace(0, tspan[1], 1000)\n",
    "    )\n",
    "    # Feel free to comment out 2 of the plots below using \"#\" to show less plots\n",
    "    plt.plot(soln.t, soln.y[0], label=f\"Susceptible when Fraction Vaccinated={k}\")\n",
    "    plt.plot(soln.t, soln.y[1], label=f\"Infected when Fraction Vaccinated={k}\")\n",
    "    plt.plot(soln.t, soln.y[2], label=f\"Removed when Fraction Vaccinated={k}\")\n",
    "    plt.plot(soln.t, soln.y[3], label=f\"Deceased when Fraction Vaccinated={k}\")\n",
    "\n",
    "\n",
    "\n",
    "plt.xlabel(\"Time, days\", fontsize=20)\n",
    "plt.ylabel(\"Population Size\", fontsize=20)\n",
    "plt.xticks(fontsize=15)\n",
    "plt.yticks(fontsize=15)\n",
    "#try changing ylim upper bound to see what happens with D at R>0.5\n",
    "# plt.ylim(0,10)\n",
    "plt.grid()\n",
    "plt.legend(fontsize=10, bbox_to_anchor=(1.05, 1), loc=\"upper left\");"
   ]
  },
  {
   "cell_type": "markdown",
   "metadata": {},
   "source": [
    "On the example above you can see that if >50% of population is vaccinated then epidemic is prevented.  \n",
    "We can derive the conditions when epidemic is prevented analytically by remembering the earlier result that $\\frac{dI}{dt}=0$ when $\\frac{S}{N}=\\frac{\\gamma}{\\beta}$, where $\\frac{S}{N}=(1-FractionVaccinated)$ and $\\frac{1}{R_0} = \\frac{\\gamma}{\\beta}$.  \n",
    "  \n",
    "So if $FractionVaccinated \\geq 1 - \\frac{1}{R_0}$ then epidemic can be prevented, which is $FractionVaccinated \\geq 0.5$ for our example of $R_0 =2$.  \n",
    "Reported $R_0$ values for delta and omicron strains of COVID19 are reported to be up to 7 indicating that >85% of population needs to be vaccinated according to our simple model to achieve so called \"herd immunity\".\n"
   ]
  }
 ],
 "metadata": {
  "kernelspec": {
   "display_name": "Python 3 (ipykernel)",
   "language": "python",
   "name": "python3"
  },
  "language_info": {
   "codemirror_mode": {
    "name": "ipython",
    "version": 3
   },
   "file_extension": ".py",
   "mimetype": "text/x-python",
   "name": "python",
   "nbconvert_exporter": "python",
   "pygments_lexer": "ipython3",
   "version": "3.10.6"
  }
 },
 "nbformat": 4,
 "nbformat_minor": 4
}
