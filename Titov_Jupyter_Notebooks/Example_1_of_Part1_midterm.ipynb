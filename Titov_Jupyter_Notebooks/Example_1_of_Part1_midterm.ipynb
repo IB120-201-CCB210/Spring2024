{
 "cells": [
  {
   "cell_type": "markdown",
   "metadata": {},
   "source": [
    "## Exam 1. Introduction to Quantitative Methods in Biology"
   ]
  },
  {
   "cell_type": "markdown",
   "metadata": {},
   "source": [
    "Import libraries that you'll need in the cell below"
   ]
  },
  {
   "cell_type": "code",
   "execution_count": null,
   "metadata": {},
   "outputs": [],
   "source": []
  },
  {
   "cell_type": "markdown",
   "metadata": {},
   "source": [
    "## Question 1\n",
    "  \n",
    "You work as an epidemiological modeler for the CDC.  \n",
    "  \n",
    "Your next assignment is to model the outbreak of flu in a Remote Town to help Remote Town leadership to prepare a response.  \n",
    "  \n",
    "You were informed that Remote Town population is 10,000 and that 1 infected person have arrived there four days ago. Due to a database error the leadership of Remote Town couldn't identify and isolate the infected person so the virus is spreading in Remote Town uncontrollably.  \n",
    "  \n",
    "While you're setting up a more elaborate model, you decide to get a few quick estimates to report to Remote Town leadership using simple SIR model:\n",
    "  \n",
    "$N = S + I + R$  \n",
    "   \n",
    "$\\frac{dS}{dt}=-\\gamma \\cdot R_0 \\cdot \\frac{S}{N} \\cdot I$  \n",
    "  \n",
    "$\\frac{dI}{dt}=\\gamma \\cdot R_0 \\cdot \\frac{S}{N} \\cdot I - \\gamma \\cdot I$  \n",
    "\n",
    "$\\frac{dR}{dt}=\\gamma \\cdot I$  \n",
    "  \n",
    "  You look up in the CDC database that $R_0=3$, $\\gamma=0.2$ for this strain of flu.  \n",
    "  You know that this database reports $\\gamma$ in units $Day^{-1}$ while $R_0$ has no units"
   ]
  },
  {
   "cell_type": "markdown",
   "metadata": {},
   "source": [
    "**Question 1A (10 points).** Remote Town can only treat 100 infected people at any given time. Use SIR model above to plot the number of Susceptible, Infected and Removed people over time with today being time=0. Estimate how many days will it take from today for the number of Infected people to surpass 100 people. Remember that infected person arrived four days ago and since this is only an estimate feel free to round to closest integer or include a range (e.g. 10-11 days after today)."
   ]
  },
  {
   "cell_type": "code",
   "execution_count": null,
   "metadata": {},
   "outputs": [],
   "source": []
  },
  {
   "cell_type": "markdown",
   "metadata": {},
   "source": [
    "**Question 1B  (10 points).** You were also informed that Remote Town leadership needs 30 days to gather the relevant resources to prepare for the full blown outbreak. From previous experience, Remote Town leadership estimates that they can have a lockdown in 3 days and they have two options: a partial lockdwon and a complete lockdown. Based on the measures that they can take you estimate that $R_0$ will drop to 2 for partial lockdown and 1.1 for complete lockdown. Plot the number of infected people with lockdown $R_0=1.1$ and $R_0=2$ and make a conclusion whether the partial or complete lockdown will be sufficient to prevent the number of infected people from surpassing 100 in 30 days or whether an even more drastic lockdown measures will have to be taken to slowdown the epidemic."
   ]
  },
  {
   "cell_type": "code",
   "execution_count": null,
   "metadata": {},
   "outputs": [],
   "source": []
  },
  {
   "cell_type": "markdown",
   "metadata": {},
   "source": [
    "## Question 2.\n",
    "You want to model the dynamics of the following metabolic pathway.  \n",
    "  \n",
    "  $A_{extracellular}  \\xrightarrow{X} A \\xrightarrow{Y} B \\xrightarrow{Z} B_{extracellular}$  \n",
    "  - Metabolite A is imported into the cell using transporter X \n",
    "  - Metabolite A is converted into metabolite B using enzyme Y\n",
    "  - B is exported outside the cell using transporter Z\n",
    "  \n",
    "Assume that extracellular volume is much larger than intracellular volume so $A_{extracellular}$ and $B_{extracellular}$ are constants and don't change over time. The only paramteres that are changing over time in this system are concentrtation of metabolites A and B.  \n",
    "  \n",
    "From experiments with purified enzymes you know the rate equations for reactions $A_{extracellular}  \\xrightarrow{X} A$, $A \\xrightarrow{Y} B$ and $B \\xrightarrow{Z} B_{extracellular}$ catalyzed by transporter X, enzyme Y and transporter Z:\n",
    "\n",
    "$Rate^X=\\frac{V_{max}^X \\cdot A_{extracellular}}{K_M^X+A_{extracellular}}$ where $V_{max}^X=1$ and $K_M^X=1$. In other words, $Rate^X$ is a rate of $A_{extracellular}  \\xrightarrow{X} A$ reaction.\n",
    "  \n",
    "$Rate^Y=\\frac{V_{max}^Y \\cdot A}{K_M^Y+A}$ where $V_{max}^Y=2$ and $K_M^Y=1$. In other words, $Rate^Y$ is a rate of $A  \\xrightarrow{Y} B$ reaction.\n",
    "  \n",
    "$Rate^Z=\\frac{V_{max}^Z \\cdot B}{K_M^Z+B}$ where $V_{max}^Z=10$ and $K_M^Z=1$. In other words, $Rate^Z$ is a rate of $B  \\xrightarrow{Z} B_{extracellular}$ reaction.\n",
    "\n",
    "$A_{extracellular}, A, B, B_{extracellular}$ are concentration of relevant metabolites"
   ]
  },
  {
   "cell_type": "markdown",
   "metadata": {},
   "source": [
    "**Question 2A (10 points).** Write down differential equations that descibe the dynamics of intracellular concentrations of $A$ and $B$ using the information above. You'll need to write down a total of two differential equations: one for $\\frac{dA}{dt}$ and one for $\\frac{dB}{dt}$."
   ]
  },
  {
   "cell_type": "markdown",
   "metadata": {},
   "source": [
    "$\\frac{dA}{dt}$=...  \n",
    "  \n",
    "$\\frac{dB}{dt}$=..."
   ]
  },
  {
   "cell_type": "markdown",
   "metadata": {},
   "source": [
    "**Question 2B (10 points).** Solve the above system of differential equations using your prefered method and plot the changes in intracellular concentrations of $A$ and $B$ over timeframe 0-100 using initial conditions of  $A_{extracellular}$=10 and the rest of metabolites=0."
   ]
  },
  {
   "cell_type": "code",
   "execution_count": null,
   "metadata": {},
   "outputs": [],
   "source": []
  }
 ],
 "metadata": {
  "kernelspec": {
   "display_name": "Python 3 (ipykernel)",
   "language": "python",
   "name": "python3"
  },
  "language_info": {
   "codemirror_mode": {
    "name": "ipython",
    "version": 3
   },
   "file_extension": ".py",
   "mimetype": "text/x-python",
   "name": "python",
   "nbconvert_exporter": "python",
   "pygments_lexer": "ipython3",
   "version": "3.10.6"
  }
 },
 "nbformat": 4,
 "nbformat_minor": 4
}
