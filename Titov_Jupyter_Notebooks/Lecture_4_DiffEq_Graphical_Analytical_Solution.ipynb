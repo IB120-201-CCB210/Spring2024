{
 "cells": [
  {
   "cell_type": "markdown",
   "metadata": {},
   "source": [
    "# <center>CMPBIO210, IB120, IB201\n",
    "# <center>\"Introduction to Quantitative Methods in Biology\"\n",
    "# <center>Lecture 4. Analytical and Graphical Solutions of Differential Equations\n",
    "## <center>Denis Titov"
   ]
  },
  {
   "cell_type": "markdown",
   "metadata": {},
   "source": [
    "**The goal of this jupyter notebook is to introduce you to analytical methods of solving differential equations using SymPy dsolve() and introduce SymPy library in general**"
   ]
  },
  {
   "cell_type": "code",
   "execution_count": null,
   "metadata": {},
   "outputs": [],
   "source": [
    "import numpy as np\n",
    "import sympy as sym\n",
    "import matplotlib.pyplot as plt\n",
    "from scipy.integrate import solve_ivp"
   ]
  },
  {
   "cell_type": "markdown",
   "metadata": {},
   "source": [
    "## Representation of numbers by a computer"
   ]
  },
  {
   "cell_type": "markdown",
   "metadata": {},
   "source": [
    "The number of numbers between 0 and 1 is $\\infty$ while computers have finite memory so can only represent finite numbers.  \n",
    "This can lead to errors in numerical calculations that you should be familiar with.  \n",
    "This is not specific to python but rather a general \"feature\" of computers.  \n",
    "You can read more about representation of floating point number by a computer here: https://docs.python.org/3/tutorial/floatingpoint.html  \n",
    "For example, the value below should be True but..."
   ]
  },
  {
   "cell_type": "code",
   "execution_count": null,
   "metadata": {},
   "outputs": [],
   "source": [
    "0.1 + 0.1 + 0.1 == .3"
   ]
  },
  {
   "cell_type": "markdown",
   "metadata": {},
   "source": [
    "The example below should be equal to zero but..."
   ]
  },
  {
   "cell_type": "code",
   "execution_count": null,
   "metadata": {},
   "outputs": [],
   "source": [
    "(0.1+0.1+0.1+0.1+0.1+0.1+0.1+0.1+0.1+0.1-1)*1e20"
   ]
  },
  {
   "cell_type": "markdown",
   "metadata": {},
   "source": [
    "If we look more closely, 0.1 is not exactly 0.1 "
   ]
  },
  {
   "cell_type": "code",
   "execution_count": null,
   "metadata": {},
   "outputs": [],
   "source": [
    "0.1"
   ]
  },
  {
   "cell_type": "code",
   "execution_count": null,
   "metadata": {},
   "outputs": [],
   "source": [
    "format(0.1, '.20')"
   ]
  },
  {
   "cell_type": "markdown",
   "metadata": {},
   "source": [
    "This is because computers represent float64 numbers as binary fractions with relative precision of $2^{-52} \\approx 2.22 \\cdot 10^{-16}$.  \n",
    "This is called IEEE 754 standard for representing floating-point numbers.  \n",
    "Computers represent numbers as a ratio of a number from $0$ to $2^{52}$ and $2^n$ where $n$ can be $-1022$ to $1023$.  \n",
    "So for 0.1 it will be $\\frac{3602879701896397}{2^{55}}=\\frac{3602879701896397}{36028797018963968}$"
   ]
  },
  {
   "cell_type": "code",
   "execution_count": null,
   "metadata": {},
   "outputs": [],
   "source": [
    "format(3602879701896397 / 36028797018963968,'.20')"
   ]
  },
  {
   "cell_type": "markdown",
   "metadata": {},
   "source": [
    "Max precision of float numbers in computers is called machine epsilon"
   ]
  },
  {
   "cell_type": "code",
   "execution_count": null,
   "metadata": {},
   "outputs": [],
   "source": [
    "np.finfo(float).eps"
   ]
  },
  {
   "cell_type": "markdown",
   "metadata": {},
   "source": [
    "SymPy and other libraries allow you to do exact calculations using ratios of numbers"
   ]
  },
  {
   "cell_type": "code",
   "execution_count": null,
   "metadata": {
    "tags": []
   },
   "outputs": [],
   "source": [
    "sym.Rational(1,10)+sym.Rational(1,10)+sym.Rational(1,10)==sym.Rational(3,10)"
   ]
  },
  {
   "cell_type": "markdown",
   "metadata": {
    "tags": []
   },
   "source": [
    "## Introduction to SymPy\n",
    "\n",
    "SymPy is a python library for symbolic math calculations.  \n",
    "We will be mostly concerned with using SymPy to analytically solve differential equations but SymPy has many other capabilities that we'll briefly review in the beginning.\n",
    "\n"
   ]
  },
  {
   "cell_type": "markdown",
   "metadata": {},
   "source": [
    "The core idea behind SymPy is that it allows you to do symbolic calculation using symbols instead of numbers"
   ]
  },
  {
   "cell_type": "code",
   "execution_count": null,
   "metadata": {},
   "outputs": [],
   "source": [
    "x, y = sym.symbols(\"x y\")"
   ]
  },
  {
   "cell_type": "code",
   "execution_count": null,
   "metadata": {},
   "outputs": [],
   "source": [
    "5*x-4*x"
   ]
  },
  {
   "cell_type": "markdown",
   "metadata": {},
   "source": [
    "Why should we care about doing symbolic math on a computer when numerical calculations are so easy?  \n",
    "There're at least two agruments in support of symbolic math calculations:  \n",
    "- Equations can be dramatically simplified using symbolic math so that it's easier to do numerical calculations \n",
    "- Numerical calculations have errors introduced by approximation of numerical methods and by inability of computers to represent rational numbers precisely  \n"
   ]
  },
  {
   "cell_type": "markdown",
   "metadata": {},
   "source": [
    "## Analytically solving ODEs with SymPy dsolve()"
   ]
  },
  {
   "cell_type": "markdown",
   "metadata": {},
   "source": [
    "**Lets use Drug clearance by the kidneys as another example:**\n",
    "\n",
    "## $\\frac{d[Drug](t)}{dt}=-k[Drug](t)$  \n",
    "  \n",
    "where $t$ is time,  k is some constant describing kindey filtration rate,  $[Drug](t)$ is blood concentration of drug at time $t$ and $[Drug]_0$ is is blood concentration of drug at $t=0$. "
   ]
  },
  {
   "cell_type": "code",
   "execution_count": null,
   "metadata": {},
   "outputs": [],
   "source": [
    "Drug = sym.symbols(\"[Drug]\", cls=sym.Function)\n",
    "t, k, Drug_0 = sym.symbols(\"t, k, [Drug]_0\")\n",
    "Drug_clearance_solution = sym.dsolve(sym.diff(Drug(t), t) + k * Drug(t), Drug(t), ics={Drug(0): Drug_0})\n",
    "Drug_clearance_solution"
   ]
  },
  {
   "cell_type": "markdown",
   "metadata": {},
   "source": [
    "We can plot the solution using SymPy built-in plotting function.  \n",
    "SymPy built-in plot function doesn't require us to make an array of $t$ like matplotlib so might be more convenient."
   ]
  },
  {
   "cell_type": "code",
   "execution_count": null,
   "metadata": {},
   "outputs": [],
   "source": [
    "sym.plot(\n",
    "    Drug_clearance_solution.rhs.subs({Drug_0: 10, k: sym.ln(2)}),\n",
    "    Drug_clearance_solution.rhs.subs({Drug_0: 30, k: sym.ln(2)}),\n",
    "    Drug_clearance_solution.rhs.subs({Drug_0: 100, k: sym.ln(2)}),\n",
    "    (t, 0, 5),\n",
    "    xlabel=\"t\",\n",
    "    ylabel=\"[Drug](t)\"\n",
    ");"
   ]
  },
  {
   "cell_type": "markdown",
   "metadata": {},
   "source": [
    "You can use this approach to calculate $[S](t)$ for any substrate as long as you know the rate equation and kinetic parameters that describe that enzyme."
   ]
  },
  {
   "cell_type": "markdown",
   "metadata": {
    "tags": []
   },
   "source": [
    "## Fixed points of a differential equation\n",
    "### Also refered to as steady state and stable points"
   ]
  },
  {
   "cell_type": "markdown",
   "metadata": {},
   "source": [
    " "
   ]
  },
  {
   "cell_type": "markdown",
   "metadata": {},
   "source": [
    "**Lets solve logistic equation for population growth in the presence of limited resources as an example:**\n",
    "  \n",
    "## $\\frac{dN(t)}{dt}=kN(t) \\cdot (1-\\frac{N(t)}{N_{max}})$  \n",
    "\n",
    "where $t$ is time, k is some constant specific for this population growth, $N(t)$ is population at time $t$, $N_{max}$ is maximal population size that can be achieved under these conditions."
   ]
  },
  {
   "cell_type": "code",
   "execution_count": null,
   "metadata": {},
   "outputs": [],
   "source": [
    "N = sym.symbols(\"N\", cls=sym.Function)\n",
    "t, k, N0, N_max = sym.symbols(\"t, k, N0, N_max\")\n",
    "Logistic_growth_solution = sym.dsolve(sym.diff(N(t), t) - k * N(t) * (1 - N(t) / N_max), \n",
    "                                      N(t), \n",
    "                                      ics={N(0): N0})\n",
    "Logistic_growth_solution.simplify()"
   ]
  },
  {
   "cell_type": "code",
   "execution_count": null,
   "metadata": {},
   "outputs": [],
   "source": [
    "sym.plot(\n",
    "    Logistic_growth_solution.rhs.subs({N0: 3, N_max: 100, k: sym.ln(2)}),\n",
    "    Logistic_growth_solution.rhs.subs({N0: 30, N_max: 100, k: sym.ln(2)}),\n",
    "    Logistic_growth_solution.rhs.subs({N0: 130, N_max: 100, k: sym.ln(2)}),\n",
    "    (t, 0, 15),\n",
    "    xlabel=\"t\",\n",
    "    ylabel=\"N(t)\",\n",
    "    axis_center=(0,0),\n",
    "    ylim=(0,150),\n",
    ");"
   ]
  },
  {
   "cell_type": "markdown",
   "metadata": {},
   "source": [
    "The main idea behind stable points is to find $N$ where $\\frac{dN(t)}{dt}=0$.  \n",
    "To do this we need to solve the equation $\\frac{dN(t)}{dt}=kN(t) \\cdot (1-\\frac{N(t)}{N_{max}})=0$  \n"
   ]
  },
  {
   "cell_type": "code",
   "execution_count": null,
   "metadata": {},
   "outputs": [],
   "source": [
    "N, k, N_max = sym.symbols(\"N, k, N_max\")\n",
    "sym.nonlinsolve([- k * N * (1 - N / N_max)], [N])"
   ]
  },
  {
   "cell_type": "markdown",
   "metadata": {
    "tags": []
   },
   "source": [
    "## Introduction to Graphical Methods\n",
    "\n",
    "Let's take an ODE $\\frac{dy(t)}{dt}=f(t,y(t))$\n",
    "\n",
    "It is possible to plot the outlines of this ODE solution using only $f(t,y(t))$ without solving the differential equation.  \n",
    "Previously we reviewed numerical methods of solving ODE that can give us the solution of this ODE starting from some initial conditions $y(t_0)$. However, there's only one solution of this ODE that goes through $y(t_0)$ and there's an infinite number of other solutions. In addition, sometime there's no solution that goes through $y(t_0)$.  \n",
    "  \n",
    "  Therefore, it is often useful to be able to \"see\" how all the solutions look like using graphical methods reviewed here even though we can't use graphical methods to make precise quantitative prediction like with numerical or analytical solutions.  \n",
    "Some the properties of solutions that we can see using graphical methods include steady state, oscillation, stable and unstable points etc.\n",
    "\n",
    "\n"
   ]
  },
  {
   "cell_type": "markdown",
   "metadata": {},
   "source": [
    "Let's use bacterial growth rate in rich media as a first example:\n",
    "  \n",
    "$\\frac{dN(t)}{dt}=kN(t)$  \n",
    "\n",
    "where $t$ is time,  \n",
    "k is some constant specific for this E.coli strain and growth conditions,  \n",
    "$N(t)$ is number of E. coli at time $t$.  \n",
    "Let's plot a numerical solution to this ODE with $N(0)=1$, $k=1$ and lets make this plot more beautiful than previously:"
   ]
  },
  {
   "cell_type": "code",
   "execution_count": null,
   "metadata": {},
   "outputs": [],
   "source": [
    "k = 1\n",
    "N_0 = [1]\n",
    "tspan = [0, 5]\n",
    "\n",
    "def fun(t, y):\n",
    "    dN_dt = k * y\n",
    "    return dN_dt\n",
    "\n",
    "soln = solve_ivp(fun, tspan, N_0, t_eval=np.linspace(0, 5, 30))\n",
    "\n",
    "# The code below plots the solution of ODE\n",
    "plt.figure(figsize=(8,5), dpi=100)\n",
    "plt.plot(soln.t, soln.y[0], label=r'$N(t)=N_0e^{kt}$', color=\"green\", marker=\"o\",linestyle=\"-\")\n",
    "plt.xlabel(\"Time, $t$\", fontsize=20)\n",
    "plt.ylabel(\"$N(t)$\", fontsize=20)\n",
    "plt.xticks(fontsize=15)\n",
    "plt.yticks(fontsize=15)\n",
    "plt.grid()\n",
    "plt.legend(fontsize=20)\n",
    "plt.savefig(\"beautiful_figure.png\")"
   ]
  },
  {
   "cell_type": "markdown",
   "metadata": {},
   "source": [
    "We want to know how the solution will look like everywhere not just at $N(0)=1$.  \n",
    "  \n",
    "  Remember that the analytical solution to $\\frac{dN(t)}{dt}=kN(t)$ is $N(t)=Ce^{kt}$ so there's an $\\infty$ of solutions that vary by $C$.  \n",
    "  \n",
    "  Lets review another example $\\frac{dy(t)}{dt}=2t$ and its solution $y(t)=t^2+C$ to further highlight the presence of an $\\infty$ of solutions that vary by $C$:\n",
    "\n",
    "$\\frac{dy(t)}{dt}=\\lim_{\\Delta t \\to 0} \\frac{y(t+\\Delta t)-y(t)}{\\Delta t}$  \n",
    "  \n",
    "  $\\frac{y(t+\\Delta t)-y(t)}{\\Delta t}=\\frac{(t+\\Delta t)^2+C-(t)^2-C}{\\Delta t}=\\frac{t^2+2t \\cdot \\Delta t + \\Delta t^2-t^2}{\\Delta t}=2t + \\Delta t$  \n",
    "  \n",
    "  Since $\\Delta t \\to 0$, we get $\\frac{dy(t)}{dt}=2t$\n",
    "\n",
    "\n",
    "We can of course numerically solve this ODE under 1000s of initial conditions but this can take time and we still might miss something important like oscillations occuring only with particular initial conditions.  "
   ]
  },
  {
   "cell_type": "markdown",
   "metadata": {},
   "source": [
    "## Direction Fields (also called Slope Fields)"
   ]
  },
  {
   "cell_type": "markdown",
   "metadata": {},
   "source": [
    "We can get a general idea of the behaviour of ODE or system of ODEs by drawing a so called Direction Field or Slope Field.  \n",
    "First, let's review that a differential $\\frac{dy(t)}{dt}$ at a point $(t, y(t))$ in ODE $\\frac{dy(t)}{dt}=f(t,y(t))$ is line tangent with slope $f(t,y(t))$.  \n",
    "Let's plot this tangent for our example equation $\\frac{dN(t)}{dt}=kN(t)$:"
   ]
  },
  {
   "cell_type": "code",
   "execution_count": null,
   "metadata": {},
   "outputs": [],
   "source": [
    "time = np.linspace(0, 5, 100)\n",
    "OD600 = np.exp(time)\n",
    "i=80\n",
    "a=OD600[i]\n",
    "b=(1-time[i])*OD600[i]\n",
    "\n",
    "plt.figure(figsize=(8,5),dpi=100)\n",
    "plt.plot(time, OD600, label=\"$N(t)=N_0e^{kt}$\")\n",
    "plt.plot(time,a*(time)+b, label=f\"Tangent line at N(t)={OD600[i]:.2f}, t={time[i]:.2f}\")\n",
    "plt.ylim(0,160)\n",
    "plt.xlabel(\"Time, $t$\", fontsize=20)\n",
    "plt.ylabel(\"$N(t)$\", fontsize=20)\n",
    "plt.xticks(fontsize=15)\n",
    "plt.yticks(fontsize=15)\n",
    "plt.grid()\n",
    "plt.legend(fontsize=15);"
   ]
  },
  {
   "cell_type": "markdown",
   "metadata": {},
   "source": [
    "The simple idea behind drawing Slope or Direction Fields is that we can calculate slope of the tangent at any point on the graph since it is simply equal to $f(t, y(t))$ in ODE $\\frac{dy(t)}{dt}=f(t,y(t))$ or $kN(t)$ in ODE $\\frac{dN(t)}{dt}=kN(t)$.  \n",
    "So we can draw Direction Fields without solving the ODE."
   ]
  },
  {
   "cell_type": "markdown",
   "metadata": {},
   "source": [
    "Let's do it for a range of $N(t)$ and $t$ values for $\\frac{dN(t)}{dt}=kN(t)$  \n",
    "  \n",
    "You'll need to remember some trigonometry to calculate legs from hypotenuse of a right triangle: https://en.wikipedia.org/wiki/Trigonometric_functions"
   ]
  },
  {
   "cell_type": "code",
   "execution_count": null,
   "metadata": {},
   "outputs": [],
   "source": [
    "k = 1\n",
    "N, t = np.mgrid[-4:4:20j,-4:4:20j]\n",
    "\n",
    "slope = dNdt = k*N\n",
    "dt, dN = np.cos(np.arctan(slope)), np.sin(np.arctan(slope))\n",
    "\n",
    "fig, axs = plt.subplots(nrows=1, ncols=2, figsize=(14,7), dpi=100, constrained_layout=True)\n",
    "axs[0].quiver(t, N, dt, dN)\n",
    "axs[1].streamplot(t, N, dt, dN)\n",
    "\n",
    "for ax in axs:\n",
    "    ax.tick_params(labelsize=15)\n",
    "    ax.grid(which='major', axis='both')\n",
    "    ax.set_xlabel(\"Time, $t$\",fontsize=20)\n",
    "    ax.set_ylabel(\"$N(t)$\",fontsize=20)"
   ]
  },
  {
   "cell_type": "markdown",
   "metadata": {},
   "source": [
    "## Logistic growth\n",
    "\n",
    "Logistic growth is used to describe the growth of population under conditions that can support max population of size $N_{max}$. The behaviour that we should expect from such a system is that population grows exponentially when $N(t)<<N_{max}$ and declines exponentially when $N(t)>>N_{max}$ and some transition happens when $N(t) \\approx N_{max}$. This is the differential expression describing such a system:\n",
    "  \n",
    "  $\\frac{dN(t)}{dt}=k \\cdot N(t) \\cdot (1-\\frac{N(t)}{N_{max}})$  \n",
    "\n",
    "  Let's solve this equation using sove_ivp():"
   ]
  },
  {
   "cell_type": "code",
   "execution_count": null,
   "metadata": {},
   "outputs": [],
   "source": [
    "k = 1\n",
    "N_0 = [1]\n",
    "tspan = [0, 15]\n",
    "N_max = 300\n",
    "def fun(t, N):\n",
    "    dN_dt = k * N * (1-N/N_max)\n",
    "    return dN_dt\n",
    "\n",
    "soln = solve_ivp(fun, tspan, N_0, t_eval=np.linspace(0, 15, 1000))\n",
    "\n",
    "plt.figure(figsize=(8,5), dpi=100)\n",
    "plt.plot(soln.t, soln.y[0])\n",
    "plt.xlabel(\"Time, $t$\", fontsize=15)\n",
    "plt.ylabel(\"$N(t)$\", fontsize=15)\n",
    "plt.grid()"
   ]
  },
  {
   "cell_type": "markdown",
   "metadata": {},
   "source": [
    "Now lets use *quiver()* and *streamplot()* to better understand the behaviour of this system:"
   ]
  },
  {
   "cell_type": "code",
   "execution_count": null,
   "metadata": {},
   "outputs": [],
   "source": [
    "p, t = np.mgrid[0:400:20j,0:15:20j]\n",
    "slope = 1 * p * (1 - p/300)\n",
    "\n",
    "dt, dv = np.cos(np.arctan(slope)), np.sin(np.arctan(slope))\n",
    "fig, axs = plt.subplots(nrows=1, ncols=2, figsize=(14,7), dpi=100)\n",
    "axs[0].quiver(t, p, dt, dv, angles=\"xy\")\n",
    "axs[1].streamplot(t, p, dt, dv)\n",
    "\n",
    "for ax in axs:\n",
    "    ax.tick_params(labelsize=15)\n",
    "    ax.grid(which='major', axis='both')\n",
    "    ax.set_xlabel(\"Time (t)\",fontsize=20)\n",
    "    ax.set_ylabel(\"N(t)\",fontsize=20)"
   ]
  },
  {
   "cell_type": "markdown",
   "metadata": {},
   "source": [
    "## Phase portrait"
   ]
  },
  {
   "cell_type": "markdown",
   "metadata": {},
   "source": [
    "We can also plot $N(t)$ on the x-axis and $\\frac{dN(t)}{dt}=kN(t)$ on the y-axis and get a static representation of how this differential equation will behave starting from any value of $N(t)$. This method is called phase portrait and is a popular way to see how one differential equations behaves (like we see below) or a system of two differential equations will behave as we will see in later lectures where we will plot one derivative on x-axis and another derivative on the y-axis."
   ]
  },
  {
   "cell_type": "code",
   "execution_count": null,
   "metadata": {},
   "outputs": [],
   "source": [
    "k = 1\n",
    "N_max = 300\n",
    "N=np.linspace(-50, 350)\n",
    "\n",
    "plt.figure(figsize=(8,5), dpi=100)\n",
    "plt.plot(N, k * N * (1-N/N_max))\n",
    "plt.arrow(0,0,-50,0, width = 3, length_includes_head = True, color=\"Red\")\n",
    "plt.arrow(0,0,N_max,0, width = 3, length_includes_head = True, color= \"Green\")\n",
    "plt.arrow(N_max+50,0,-50,0, width = 3, length_includes_head = True, color=\"Red\")\n",
    "plt.xlabel(\"$N(t)$\", fontsize=15)\n",
    "plt.ylabel(r'$\\dfrac{dN(t)}{dt}$', fontsize=15)\n",
    "plt.grid()"
   ]
  },
  {
   "cell_type": "markdown",
   "metadata": {},
   "source": [
    "From this phase portrait we can visually see which fixed points is *stable* (i.e., a small change in $N(t)$ near $N=N_{max}$ will bring $N(t)$ *back* to $N_{max}$) and which fixed points is *unstable* (i.e., a small change in $N(t)$ near $N=0$ will bring $N(t)$ *away* to fixed point)"
   ]
  }
 ],
 "metadata": {
  "kernelspec": {
   "display_name": "Python 3 (ipykernel)",
   "language": "python",
   "name": "python3"
  },
  "language_info": {
   "codemirror_mode": {
    "name": "ipython",
    "version": 3
   },
   "file_extension": ".py",
   "mimetype": "text/x-python",
   "name": "python",
   "nbconvert_exporter": "python",
   "pygments_lexer": "ipython3",
   "version": "3.10.6"
  }
 },
 "nbformat": 4,
 "nbformat_minor": 4
}
