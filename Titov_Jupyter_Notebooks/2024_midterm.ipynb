{
 "cells": [
  {
   "cell_type": "markdown",
   "metadata": {},
   "source": [
    "## 2024 MIdterm for Part 1 of the course.\n",
    "## CPMBIO210, IB120, IB201. Introduction to Quantitative Methods in Biology"
   ]
  },
  {
   "cell_type": "markdown",
   "metadata": {},
   "source": [
    "Import libraries that you'll need in the cell below"
   ]
  },
  {
   "cell_type": "code",
   "execution_count": null,
   "metadata": {},
   "outputs": [],
   "source": [
    "import matplotlib.pyplot as plt\n",
    "import numpy as np\n",
    "import sympy as sym\n",
    "from scipy.integrate import solve_ivp"
   ]
  },
  {
   "cell_type": "markdown",
   "metadata": {},
   "source": [
    "## Question 1\n",
    "  \n",
    "You work as an epidemiological modeler for the CDC.  \n",
    "  \n",
    "You learn that World Health Organization (WHO) has reported a new variant of COVID19 called $zeta$ has been detected abroad and it is only a matter of time before this variants makes it to the US.  \n",
    "\n",
    "You are meeting with your supervisor in the afternoon who wants a preliminary report on the $zeta$ variant.    \n",
    "While you're setting up a more elaborate model, you decide to get a few quick estimates to report to your supervisor using  a modified SIR model that also considers vaccinated people ($V$):\n",
    "  \n",
    "$N = S + I + R$  \n",
    "   \n",
    "$\\frac{dS}{dt}=-\\gamma \\cdot R^S_0 \\cdot \\frac{S}{N} \\cdot I$  \n",
    "\n",
    "$\\frac{dV}{dt}=-\\gamma \\cdot R^V_0 \\cdot \\frac{V}{N} \\cdot I$  \n",
    "  \n",
    "$\\frac{dI}{dt}=\\gamma \\cdot R^S_0 \\cdot \\frac{S}{N} \\cdot I + \\gamma \\cdot R^V_0 \\cdot \\frac{V}{N} \\cdot I- \\gamma \\cdot I$  \n",
    "\n",
    "$\\frac{dR}{dt}=\\gamma \\cdot I$  \n",
    "  \n",
    "You know that vaccinated people ($V$) are expected to contribute less to spread of the virus than unvaccinated people ($S$) due to difference of $R_0$ for vaccinated $R^V_0$ and unvaccinated people $R^S_0$.  \n",
    "You look up in the WHO database that $R^S_0=4$, $R^V_0=0.4$, $\\gamma=0.2$ for the zeta strain of COVID19.  \n",
    "You know that this database reports $\\gamma$ in units $Day^{-1}$ while $R^S_0$ and $R^V_0$ has no units.  \n",
    "You also know that about 75% of the US population is vaccinated.  \n",
    "Assume that total US population is 330,000,000."
   ]
  },
  {
   "cell_type": "markdown",
   "metadata": {},
   "source": [
    "**Question 1A (10 points).** Your branch of CDC uses a definition of the epidemic as a situation when a number of infected people exceeds 10,000. Using the SIR model and parameters above, figure out if zeta variant will cause an epidemic in the US (i.e., number of infected people will exceed 10,000 at any point). To validate your prediction, plot the number of infected people over time assuming that currently there's 1 person in US that is infected with zeta variant and no other variants are present. Make sure to pick the scale of y axis so that you can actually see 10,000 Infected."
   ]
  },
  {
   "cell_type": "code",
   "execution_count": null,
   "metadata": {},
   "outputs": [],
   "source": []
  },
  {
   "cell_type": "markdown",
   "metadata": {},
   "source": [
    "**Question 1B  (10 points).** You know that different States in US have different fraction of the population that is vaccinated. Based on the parameters of the zeta variant, what fraction of the state population needs to be vaccinated in order to prevent the spread of zeta variant in that state? To simplify you calculations, you assume that States can be treated as completely independent populations and you decide to not account for any interstate travel. For simplicity, use the same criteria of 10,000 infected people out of 330,000,000 as in question 1A even though state populations vary widely."
   ]
  },
  {
   "cell_type": "code",
   "execution_count": null,
   "metadata": {},
   "outputs": [],
   "source": []
  },
  {
   "cell_type": "markdown",
   "metadata": {},
   "source": [
    "## Question 2.\n",
    "You are investigating a Protein called $Protein$ and its mRNA called $mRNA$.  \n",
    "You unexpectedly found that $Protein$ degrades its $mRNA$ and you want to model this.  \n",
    "\n",
    "Here is the info that you know about $Protein$ and $mRNA$.\n",
    "  - The promoter produces mRNA called $mRNA$ that codes for $Protein$ at a constant rate $k_1$\n",
    "  - $mRNA$ is degraded at a rate $k_2 \\cdot mRNA$ in the absence of $Protein$\n",
    "  - You decide to models $mRNA$ degradation by $Protein$ using the degradation rate $k_3 \\cdot mRNA\\cdot Protein$\n",
    "  - $Protein$ is translated at a rate $k_4 \\cdot mRNA$ and is degraded at a rate $k_5 \\cdot Protein$\n"
   ]
  },
  {
   "cell_type": "markdown",
   "metadata": {},
   "source": [
    "**Question 2A (10 points).** Write down differential equations that descibe the dynamics of $Protein$ and $mRNA$. You'll need to write down a total of two differential equations as shown below."
   ]
  },
  {
   "cell_type": "markdown",
   "metadata": {},
   "source": [
    "$\\frac{dmRNA}{dt}=...$\n",
    "  \n",
    "$\\frac{dProtein}{dt}=...$"
   ]
  },
  {
   "cell_type": "markdown",
   "metadata": {},
   "source": [
    "**Question 2B (10 points).** Solve the above system of differential equations using your prefered method and plot the changes in levels of $Protein$ and $mRNA$ over timeframe 0-100 minutes while changing $k_3$ in the range of 0.01 to 1.  \n",
    "Use the following values of $k$ other than $k_3$ if needed:  \n",
    "$k_1 = 5$  \n",
    "$k_2 = 2$  \n",
    "$k_4 = 1$  \n",
    "$k_5 = 0.1$  \n",
    "\n",
    "$k_2$, $k_3$, $k_4$ and $k_5$ have units $\\frac{\\mu M}{min}$ and $k_1$ has units $\\frac{1}{min}$"
   ]
  },
  {
   "cell_type": "code",
   "execution_count": null,
   "metadata": {},
   "outputs": [],
   "source": []
  }
 ],
 "metadata": {
  "kernelspec": {
   "display_name": "Python 3 (ipykernel)",
   "language": "python",
   "name": "python3"
  },
  "language_info": {
   "codemirror_mode": {
    "name": "ipython",
    "version": 3
   },
   "file_extension": ".py",
   "mimetype": "text/x-python",
   "name": "python",
   "nbconvert_exporter": "python",
   "pygments_lexer": "ipython3",
   "version": "3.10.6"
  },
  "vscode": {
   "interpreter": {
    "hash": "aee8b7b246df8f9039afb4144a1f6fd8d2ca17a180786b69acc140d282b71a49"
   }
  }
 },
 "nbformat": 4,
 "nbformat_minor": 4
}
