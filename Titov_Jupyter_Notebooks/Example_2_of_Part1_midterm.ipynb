{
 "cells": [
  {
   "cell_type": "markdown",
   "metadata": {},
   "source": [
    "## 2022 Exam for Part 1 of the course.\n",
    "## CPMBIO210, IB120, IB201. Introduction to Quantitative Methods in Biology"
   ]
  },
  {
   "cell_type": "markdown",
   "metadata": {},
   "source": [
    "Import libraries that you'll need in the cell below"
   ]
  },
  {
   "cell_type": "code",
   "execution_count": null,
   "metadata": {},
   "outputs": [],
   "source": []
  },
  {
   "cell_type": "markdown",
   "metadata": {},
   "source": [
    "## Question 1\n",
    "  \n",
    "You work as an epidemiological modeler for the CDC.  \n",
    "  \n",
    "You learn that World Health Organization (WHO) has reported a new variant of COVID19 called zeta has been detected abroad and it is only a matter of time before this variants makes it to the US.  \n",
    "\n",
    "You are meeting with your supervisor in the afternoon who wants a preliminary report on the zeta variant.    \n",
    "While you're setting up a more elaborate model, you decide to get a few quick estimates to report to your supervisor using  SIR model:\n",
    "  \n",
    "$N = S + I + R$  \n",
    "   \n",
    "$\\frac{dS}{dt}=-\\gamma \\cdot R_0 \\cdot \\frac{S}{N} \\cdot I$  \n",
    "  \n",
    "$\\frac{dI}{dt}=\\gamma \\cdot R_0 \\cdot \\frac{S}{N} \\cdot I - \\gamma \\cdot I$  \n",
    "\n",
    "$\\frac{dR}{dt}=\\gamma \\cdot I$  \n",
    "  \n",
    "You look up in the WHO database that $R_0=8$, $\\gamma=0.2$ for the zeta strain of COVID19.  \n",
    "You know that this database reports $\\gamma$ in units $Day^{-1}$ while $R_0$ has no units.  \n",
    "You also know that about 90% of the US population is vaccinated or had prior infection with COVID19 and you assume that all of these people will be resistant to zeta variant.  \n",
    "Assume that total US population is 330,000,000."
   ]
  },
  {
   "cell_type": "markdown",
   "metadata": {},
   "source": [
    "**Question 1A (10 points).** Your branch of CDC uses a definition of the epidemic as a situation when a number of infected people exceeds 10,000. Using the SIR model and parameters above, figure out if zeta variant will cause an epidemic in the US (i.e., number of infected people will exceed 10,000 at any point). To validate your prediction, plot the number of infected people over time assuming that currently there's 1 person in US that is infected with zeta variant and no other variants are present."
   ]
  },
  {
   "cell_type": "code",
   "execution_count": null,
   "metadata": {},
   "outputs": [],
   "source": []
  },
  {
   "cell_type": "markdown",
   "metadata": {},
   "source": [
    "**Question 1B  (10 points).** You know that different States in US have different fraction of the population that is vaccinated. Based on the parameters of the zeta variant, what fraction of the state population needs to be vaccinated in order to prevent the spread of zeta variant in that state? To simplify your calculations, you assume that States can be treated as completely independent populations and you decide to not account for any interstate travel."
   ]
  },
  {
   "cell_type": "code",
   "execution_count": null,
   "metadata": {},
   "outputs": [],
   "source": []
  },
  {
   "cell_type": "markdown",
   "metadata": {},
   "source": [
    "## Question 2.\n",
    "You want to model the dynamics of expression of Protein called $Protein$ after its induction with hormone called $Hormone$.  \n",
    "\n",
    "Here is the info that you know about $Protein$ and $Hormone$.\n",
    "  - In the presence of $Hormone$, the promoter starts producing mRNA called $mRNA$ that codes for $Protein$ at a constant rate $\\alpha$\n",
    "  - In the absence of $Hormone$, the promoter does not produce any $mRNA$\n",
    "  - $mRNA$ is degraded at a rate $\\gamma \\cdot mRNA$\n",
    "  - $Protein$ is translated at a rate $\\beta \\cdot mRNA$ and is degraded at a rate $\\delta \\cdot Protein$\n"
   ]
  },
  {
   "cell_type": "markdown",
   "metadata": {},
   "source": [
    "**Question 2A (10 points).** Write down differential equations that descibe the dynamics of $Protein$ and $mRNA$ in the presence of $Hormone$ and in the absence of $Hormone$. You'll need to write down a total of four differential equations as shown below."
   ]
  },
  {
   "cell_type": "markdown",
   "metadata": {},
   "source": [
    "In the presence of $Hormone$:\n",
    "\n",
    "$\\frac{dmRNA}{dt}$=...  \n",
    "  \n",
    "$\\frac{dProtein}{dt}$=...\n",
    "\n",
    "In the absence of $Hormone$:\n",
    "\n",
    "$\\frac{dmRNA}{dt}$=...  \n",
    "  \n",
    "$\\frac{dProtein}{dt}$=..."
   ]
  },
  {
   "cell_type": "markdown",
   "metadata": {},
   "source": [
    "**Question 2B (10 points).** Solve the above system of differential equations using your prefered method and plot the changes in levels of $Protein$ and $mRNA$ after addition of $Hormone$ over timeframe 0-100 minutes.  \n",
    "Use the following values if needed:  \n",
    "$\\alpha = 5$  \n",
    "$\\beta = 2$  \n",
    "$\\gamma = 1$  \n",
    "$\\delta = 0.1$  \n",
    "$\\alpha$ have units $\\frac{\\mu M}{min}$ and $\\beta$, $\\gamma$ and $\\delta$ have units $\\frac{1}{min}$"
   ]
  },
  {
   "cell_type": "code",
   "execution_count": null,
   "metadata": {},
   "outputs": [],
   "source": []
  }
 ],
 "metadata": {
  "kernelspec": {
   "display_name": "Python 3 (ipykernel)",
   "language": "python",
   "name": "python3"
  },
  "language_info": {
   "codemirror_mode": {
    "name": "ipython",
    "version": 3
   },
   "file_extension": ".py",
   "mimetype": "text/x-python",
   "name": "python",
   "nbconvert_exporter": "python",
   "pygments_lexer": "ipython3",
   "version": "3.10.6"
  }
 },
 "nbformat": 4,
 "nbformat_minor": 4
}
